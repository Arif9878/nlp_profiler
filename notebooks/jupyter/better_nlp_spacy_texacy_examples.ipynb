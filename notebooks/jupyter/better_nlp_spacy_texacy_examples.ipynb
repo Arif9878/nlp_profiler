{
 "cells": [
  {
   "cell_type": "markdown",
   "metadata": {
    "colab_type": "text",
    "id": "iFyUOrS1fczL"
   },
   "source": [
    "# Better NLP\n",
    "\n",
    "This is a wrapper program/library that encapsulates a couple of NLP libraries that are popular among the AI and ML communities.\n",
    "\n",
    "Examples have been used to illustrate the usage as much as possible. Not all the APIs of the underlying libraries have been covered.\n",
    "\n",
    "The idea is to keep the API language as high-level as possible, so its easier to use and stays human-readable.\n",
    "\n",
    "Libraries / frameworks covered:\n",
    "\n",
    "- SpaCy ([site](https://spacy.io/) | [docs](https://spacy.io/usage/))\n",
    "- Textacy ([github](https://github.com/chartbeat-labs/textacy) | [docs](https://chartbeat-labs.github.io/textacy/))\n",
    "\n",
    "See [https://github.com/neomatrix369/awesome-ai-ml-dl/blob/master/examples/better-nlp](https://github.com/neomatrix369/awesome-ai-ml-dl/blob/master/examples/better-nlp) for more details."
   ]
  },
  {
   "cell_type": "markdown",
   "metadata": {
    "colab_type": "text",
    "id": "Lre8GErufczN"
   },
   "source": [
    "#### Setup and installation ( optional )\n",
    "\n",
    "In case, this notebook is running in a local environment (Linux/MacOS) or _Google Colab_ environment and in case it does not have the necessary dependencies installed then please execute the steps in the next section.\n",
    "\n",
    "Otherwise, please SKIP to the **Install Spacy model ( NOT optional )** section."
   ]
  },
  {
   "cell_type": "code",
   "execution_count": 1,
   "metadata": {
    "colab": {
     "base_uri": "https://localhost:8080/",
     "height": 5927
    },
    "colab_type": "code",
    "id": "QJuCUOMOfczO",
    "outputId": "018e9102-de25-4fbe-b5b3-919c58644f00"
   },
   "outputs": [
    {
     "name": "stdout",
     "output_type": "stream",
     "text": [
      "Reading package lists...\n",
      "Building dependency tree...\n",
      "Reading state information...\n",
      "apt-utils is already the newest version (1.4.9).\n",
      "dpkg is already the newest version (1.18.25).\n",
      "dselect is already the newest version (1.18.25).\n",
      "0 upgraded, 0 newly installed, 0 to remove and 4 not upgraded.\n",
      "OSTYPE=linux-gnu\n",
      "Library source found\n",
      "Detected OS: linux\n",
      "Please check if you fulfill the requirements mentioned in the README file.\n",
      "Get:1 http://security.debian.org/debian-security stretch/updates InRelease [94.3 kB]\n",
      "Ign:2 http://deb.debian.org/debian stretch InRelease\n",
      "Get:3 http://deb.debian.org/debian stretch-updates InRelease [91.0 kB]\n",
      "Hit:4 https://deb.nodesource.com/node_8.x stretch InRelease\n",
      "Hit:5 http://deb.debian.org/debian stretch Release\n",
      "Fetched 185 kB in 1s (141 kB/s)\n",
      "Reading package lists...\n",
      "Reading package lists...\n",
      "Building dependency tree...\n",
      "Reading state information...\n",
      "curl is already the newest version (7.52.1-5+deb9u9).\n",
      "libswscale-dev is already the newest version (7:3.2.12-1~deb9u1).\n",
      "liblapack-dev is already the newest version (3.7.0-2).\n",
      "pkg-config is already the newest version (0.29-4+b1).\n",
      "wget is already the newest version (1.18-5+deb9u3).\n",
      "0 upgraded, 0 newly installed, 0 to remove and 4 not upgraded.\n",
      "Reading package lists...\n",
      "Building dependency tree...\n",
      "Reading state information...\n",
      "vim is already the newest version (2:8.0.0197-4+deb9u1).\n",
      "zip is already the newest version (3.0-11+b1).\n",
      "0 upgraded, 0 newly installed, 0 to remove and 4 not upgraded.\n",
      "\n",
      "## Installing the NodeSource Node.js 8.x LTS Carbon repo...\n",
      "\n",
      "\n",
      "## Populating apt-get cache...\n",
      "\n",
      "+ apt-get update\n",
      "Hit:1 http://security.debian.org/debian-security stretch/updates InRelease\n",
      "Ign:2 http://deb.debian.org/debian stretch InRelease\n",
      "Hit:3 http://deb.debian.org/debian stretch-updates InRelease\n",
      "Hit:4 http://deb.debian.org/debian stretch Release\n",
      "Hit:5 https://deb.nodesource.com/node_8.x stretch InRelease\n",
      "Reading package lists...\n",
      "\n",
      "## Confirming \"stretch\" is supported...\n",
      "\n",
      "+ curl -sLf -o /dev/null 'https://deb.nodesource.com/node_8.x/dists/stretch/Release'\n",
      "\n",
      "## Adding the NodeSource signing key to your keyring...\n",
      "\n",
      "+ curl -s https://deb.nodesource.com/gpgkey/nodesource.gpg.key | apt-key add -\n",
      "OK\n",
      "\n",
      "## Creating apt sources list file for the NodeSource Node.js 8.x LTS Carbon repo...\n",
      "\n",
      "+ echo 'deb https://deb.nodesource.com/node_8.x stretch main' > /etc/apt/sources.list.d/nodesource.list\n",
      "+ echo 'deb-src https://deb.nodesource.com/node_8.x stretch main' >> /etc/apt/sources.list.d/nodesource.list\n",
      "\n",
      "## Running `apt-get update` for you...\n",
      "\n",
      "+ apt-get update\n",
      "Hit:1 http://security.debian.org/debian-security stretch/updates InRelease\n",
      "Ign:2 http://deb.debian.org/debian stretch InRelease\n",
      "Hit:3 http://deb.debian.org/debian stretch-updates InRelease\n",
      "Hit:4 http://deb.debian.org/debian stretch Release\n",
      "Hit:5 https://deb.nodesource.com/node_8.x stretch InRelease\n",
      "Reading package lists...\n",
      "\n",
      "## Run `sudo apt-get install -y nodejs` to install Node.js 8.x LTS Carbon and npm\n",
      "## You may also need development tools to build native addons:\n",
      "     sudo apt-get install gcc g++ make\n",
      "## To install the Yarn package manager, run:\n",
      "     curl -sL https://dl.yarnpkg.com/debian/pubkey.gpg | sudo apt-key add -\n",
      "     echo \"deb https://dl.yarnpkg.com/debian/ stable main\" | sudo tee /etc/apt/sources.list.d/yarn.list\n",
      "     sudo apt-get update && sudo apt-get install yarn\n",
      "\n",
      "\n",
      "Reading package lists...\n",
      "Building dependency tree...\n",
      "Reading state information...\n",
      "nodejs is already the newest version (8.15.1-1nodesource1).\n",
      "0 upgraded, 0 newly installed, 0 to remove and 4 not upgraded.\n",
      "Install components using python and pip\n",
      "/usr/bin/npm -> /usr/lib/node_modules/npm/bin/npm-cli.js\n",
      "/usr/bin/npx -> /usr/lib/node_modules/npm/bin/npx-cli.js\n",
      "+ npm@6.9.0\n",
      "updated 1 package in 29.495s\n",
      "6.9.0\n",
      "Python 3.7.3\n",
      "pip 19.0.3 from /usr/local/lib/python3.7/site-packages/pip (python 3.7)\n",
      "Requirement already satisfied: spacy in /usr/local/lib/python3.7/site-packages (2.1.3)\n",
      "Requirement already satisfied: textacy in /usr/local/lib/python3.7/site-packages (0.6.3)\n",
      "Requirement already satisfied: thinc<7.1.0,>=7.0.2 in /usr/local/lib/python3.7/site-packages (from spacy) (7.0.4)\n",
      "Requirement already satisfied: srsly<1.1.0,>=0.0.5 in /usr/local/lib/python3.7/site-packages (from spacy) (0.0.5)\n",
      "Requirement already satisfied: wasabi<1.1.0,>=0.2.0 in /usr/local/lib/python3.7/site-packages (from spacy) (0.2.1)\n",
      "Requirement already satisfied: requests<3.0.0,>=2.13.0 in /usr/local/lib/python3.7/site-packages (from spacy) (2.21.0)\n",
      "Requirement already satisfied: jsonschema<3.0.0,>=2.6.0 in /usr/local/lib/python3.7/site-packages (from spacy) (2.6.0)\n",
      "Requirement already satisfied: blis<0.3.0,>=0.2.2 in /usr/local/lib/python3.7/site-packages (from spacy) (0.2.4)\n",
      "Requirement already satisfied: preshed<2.1.0,>=2.0.1 in /usr/local/lib/python3.7/site-packages (from spacy) (2.0.1)\n",
      "Requirement already satisfied: plac<1.0.0,>=0.9.6 in /usr/local/lib/python3.7/site-packages (from spacy) (0.9.6)\n",
      "Requirement already satisfied: numpy>=1.15.0 in /usr/local/lib/python3.7/site-packages (from spacy) (1.16.2)\n",
      "Requirement already satisfied: murmurhash<1.1.0,>=0.28.0 in /usr/local/lib/python3.7/site-packages (from spacy) (1.0.2)\n",
      "Requirement already satisfied: cymem<2.1.0,>=2.0.2 in /usr/local/lib/python3.7/site-packages (from spacy) (2.0.2)\n",
      "Requirement already satisfied: cachetools>=2.0.0 in /usr/local/lib/python3.7/site-packages (from textacy) (3.1.0)\n",
      "Requirement already satisfied: ijson>=2.3 in /usr/local/lib/python3.7/site-packages (from textacy) (2.3)\n",
      "Requirement already satisfied: pyemd>=0.3.0 in /usr/local/lib/python3.7/site-packages (from textacy) (0.5.1)\n",
      "Requirement already satisfied: pyphen>=0.9.4 in /usr/local/lib/python3.7/site-packages (from textacy) (0.9.5)\n",
      "Requirement already satisfied: mwparserfromhell>=0.4.4 in /usr/local/lib/python3.7/site-packages (from textacy) (0.5.3)\n",
      "Requirement already satisfied: scipy>=0.17.0 in /usr/local/lib/python3.7/site-packages (from textacy) (1.2.1)\n",
      "Requirement already satisfied: tqdm>=4.11.1 in /usr/local/lib/python3.7/site-packages (from textacy) (4.31.1)\n",
      "Requirement already satisfied: cytoolz>=0.8.0 in /usr/local/lib/python3.7/site-packages (from textacy) (0.9.0.1)\n",
      "Requirement already satisfied: ftfy<5.0.0,>=4.2.0 in /usr/local/lib/python3.7/site-packages (from textacy) (4.4.3)\n",
      "Requirement already satisfied: networkx>=1.11 in /usr/local/lib/python3.7/site-packages (from textacy) (2.3)\n",
      "Requirement already satisfied: scikit-learn>=0.17.0 in /usr/local/lib/python3.7/site-packages (from textacy) (0.20.3)\n",
      "Requirement already satisfied: python-levenshtein>=0.12.0 in /usr/local/lib/python3.7/site-packages (from textacy) (0.12.0)\n",
      "Requirement already satisfied: urllib3<1.25,>=1.21.1 in /usr/local/lib/python3.7/site-packages (from requests<3.0.0,>=2.13.0->spacy) (1.24.1)\n",
      "Requirement already satisfied: idna<2.9,>=2.5 in /usr/local/lib/python3.7/site-packages (from requests<3.0.0,>=2.13.0->spacy) (2.8)\n",
      "Requirement already satisfied: chardet<3.1.0,>=3.0.2 in /usr/local/lib/python3.7/site-packages (from requests<3.0.0,>=2.13.0->spacy) (3.0.4)\n",
      "Requirement already satisfied: certifi>=2017.4.17 in /usr/local/lib/python3.7/site-packages (from requests<3.0.0,>=2.13.0->spacy) (2019.3.9)\n",
      "Requirement already satisfied: toolz>=0.8.0 in /usr/local/lib/python3.7/site-packages (from cytoolz>=0.8.0->textacy) (0.9.0)\n",
      "Requirement already satisfied: wcwidth in /usr/local/lib/python3.7/site-packages (from ftfy<5.0.0,>=4.2.0->textacy) (0.1.7)\n",
      "Requirement already satisfied: html5lib in /usr/local/lib/python3.7/site-packages (from ftfy<5.0.0,>=4.2.0->textacy) (1.0.1)\n",
      "Requirement already satisfied: decorator>=4.3.0 in /usr/local/lib/python3.7/site-packages (from networkx>=1.11->textacy) (4.4.0)\n",
      "Requirement already satisfied: setuptools in /usr/local/lib/python3.7/site-packages (from python-levenshtein>=0.12.0->textacy) (40.8.0)\n",
      "Requirement already satisfied: six>=1.9 in /usr/local/lib/python3.7/site-packages (from html5lib->ftfy<5.0.0,>=4.2.0->textacy) (1.12.0)\n",
      "Requirement already satisfied: webencodings in /usr/local/lib/python3.7/site-packages (from html5lib->ftfy<5.0.0,>=4.2.0->textacy) (0.5.1)\n",
      "Requirement already satisfied: jupyterlab in /root/.local/lib/python3.7/site-packages (0.35.4)\n",
      "Requirement already satisfied: pandas in /root/.local/lib/python3.7/site-packages (0.24.2)\n",
      "Requirement already satisfied: notebook>=4.3.1 in /root/.local/lib/python3.7/site-packages (from jupyterlab) (5.7.8)\n",
      "Requirement already satisfied: jupyterlab-server<0.3.0,>=0.2.0 in /root/.local/lib/python3.7/site-packages (from jupyterlab) (0.2.0)\n",
      "Requirement already satisfied: python-dateutil>=2.5.0 in /root/.local/lib/python3.7/site-packages (from pandas) (2.8.0)\n",
      "Requirement already satisfied: pytz>=2011k in /root/.local/lib/python3.7/site-packages (from pandas) (2019.1)\n",
      "Requirement already satisfied: numpy>=1.12.0 in /usr/local/lib/python3.7/site-packages (from pandas) (1.16.2)\n",
      "Requirement already satisfied: nbconvert in /root/.local/lib/python3.7/site-packages (from notebook>=4.3.1->jupyterlab) (5.4.1)\n",
      "Requirement already satisfied: tornado<7,>=4.1 in /root/.local/lib/python3.7/site-packages (from notebook>=4.3.1->jupyterlab) (6.0.2)\n",
      "Requirement already satisfied: jinja2 in /root/.local/lib/python3.7/site-packages (from notebook>=4.3.1->jupyterlab) (2.10.1)\n",
      "Requirement already satisfied: jupyter-client>=5.2.0 in /root/.local/lib/python3.7/site-packages (from notebook>=4.3.1->jupyterlab) (5.2.4)\n",
      "Requirement already satisfied: traitlets>=4.2.1 in /root/.local/lib/python3.7/site-packages (from notebook>=4.3.1->jupyterlab) (4.3.2)\n",
      "Requirement already satisfied: nbformat in /root/.local/lib/python3.7/site-packages (from notebook>=4.3.1->jupyterlab) (4.4.0)\n",
      "Requirement already satisfied: pyzmq>=17 in /root/.local/lib/python3.7/site-packages (from notebook>=4.3.1->jupyterlab) (18.0.1)\n",
      "Requirement already satisfied: ipython-genutils in /root/.local/lib/python3.7/site-packages (from notebook>=4.3.1->jupyterlab) (0.2.0)\n",
      "Requirement already satisfied: ipykernel in /root/.local/lib/python3.7/site-packages (from notebook>=4.3.1->jupyterlab) (5.1.0)\n",
      "Requirement already satisfied: Send2Trash in /root/.local/lib/python3.7/site-packages (from notebook>=4.3.1->jupyterlab) (1.5.0)\n",
      "Requirement already satisfied: terminado>=0.8.1 in /root/.local/lib/python3.7/site-packages (from notebook>=4.3.1->jupyterlab) (0.8.2)\n",
      "Requirement already satisfied: prometheus-client in /root/.local/lib/python3.7/site-packages (from notebook>=4.3.1->jupyterlab) (0.6.0)\n",
      "Requirement already satisfied: jupyter-core>=4.4.0 in /root/.local/lib/python3.7/site-packages (from notebook>=4.3.1->jupyterlab) (4.4.0)\n",
      "Requirement already satisfied: jsonschema>=2.6.0 in /usr/local/lib/python3.7/site-packages (from jupyterlab-server<0.3.0,>=0.2.0->jupyterlab) (2.6.0)\n",
      "Requirement already satisfied: six>=1.5 in /usr/local/lib/python3.7/site-packages (from python-dateutil>=2.5.0->pandas) (1.12.0)\n",
      "Requirement already satisfied: entrypoints>=0.2.2 in /root/.local/lib/python3.7/site-packages (from nbconvert->notebook>=4.3.1->jupyterlab) (0.3)\n",
      "Requirement already satisfied: bleach in /root/.local/lib/python3.7/site-packages (from nbconvert->notebook>=4.3.1->jupyterlab) (3.1.0)\n",
      "Requirement already satisfied: pygments in /root/.local/lib/python3.7/site-packages (from nbconvert->notebook>=4.3.1->jupyterlab) (2.3.1)\n",
      "Requirement already satisfied: defusedxml in /root/.local/lib/python3.7/site-packages (from nbconvert->notebook>=4.3.1->jupyterlab) (0.5.0)\n",
      "Requirement already satisfied: pandocfilters>=1.4.1 in /root/.local/lib/python3.7/site-packages (from nbconvert->notebook>=4.3.1->jupyterlab) (1.4.2)\n",
      "Requirement already satisfied: testpath in /root/.local/lib/python3.7/site-packages (from nbconvert->notebook>=4.3.1->jupyterlab) (0.4.2)\n",
      "Requirement already satisfied: mistune>=0.8.1 in /root/.local/lib/python3.7/site-packages (from nbconvert->notebook>=4.3.1->jupyterlab) (0.8.4)\n",
      "Requirement already satisfied: MarkupSafe>=0.23 in /root/.local/lib/python3.7/site-packages (from jinja2->notebook>=4.3.1->jupyterlab) (1.1.1)\n",
      "Requirement already satisfied: decorator in /usr/local/lib/python3.7/site-packages (from traitlets>=4.2.1->notebook>=4.3.1->jupyterlab) (4.4.0)\n",
      "Requirement already satisfied: ipython>=5.0.0 in /root/.local/lib/python3.7/site-packages (from ipykernel->notebook>=4.3.1->jupyterlab) (7.4.0)\n",
      "Requirement already satisfied: ptyprocess; os_name != \"nt\" in /root/.local/lib/python3.7/site-packages (from terminado>=0.8.1->notebook>=4.3.1->jupyterlab) (0.6.0)\n",
      "Requirement already satisfied: webencodings in /usr/local/lib/python3.7/site-packages (from bleach->nbconvert->notebook>=4.3.1->jupyterlab) (0.5.1)\n",
      "Requirement already satisfied: prompt-toolkit<2.1.0,>=2.0.0 in /root/.local/lib/python3.7/site-packages (from ipython>=5.0.0->ipykernel->notebook>=4.3.1->jupyterlab) (2.0.9)\n",
      "Requirement already satisfied: pexpect; sys_platform != \"win32\" in /root/.local/lib/python3.7/site-packages (from ipython>=5.0.0->ipykernel->notebook>=4.3.1->jupyterlab) (4.7.0)\n",
      "Requirement already satisfied: setuptools>=18.5 in /usr/local/lib/python3.7/site-packages (from ipython>=5.0.0->ipykernel->notebook>=4.3.1->jupyterlab) (40.8.0)\n",
      "Requirement already satisfied: backcall in /root/.local/lib/python3.7/site-packages (from ipython>=5.0.0->ipykernel->notebook>=4.3.1->jupyterlab) (0.1.0)\n",
      "Requirement already satisfied: pickleshare in /root/.local/lib/python3.7/site-packages (from ipython>=5.0.0->ipykernel->notebook>=4.3.1->jupyterlab) (0.7.5)\n",
      "Requirement already satisfied: jedi>=0.10 in /root/.local/lib/python3.7/site-packages (from ipython>=5.0.0->ipykernel->notebook>=4.3.1->jupyterlab) (0.13.3)\n",
      "Requirement already satisfied: wcwidth in /usr/local/lib/python3.7/site-packages (from prompt-toolkit<2.1.0,>=2.0.0->ipython>=5.0.0->ipykernel->notebook>=4.3.1->jupyterlab) (0.1.7)\n",
      "Requirement already satisfied: parso>=0.3.0 in /root/.local/lib/python3.7/site-packages (from jedi>=0.10->ipython>=5.0.0->ipykernel->notebook>=4.3.1->jupyterlab) (0.4.0)\n"
     ]
    },
    {
     "name": "stderr",
     "output_type": "stream",
     "text": [
      "Warning: apt-key output should not be parsed (stdout is not a terminal)\n"
     ]
    },
    {
     "name": "stdout",
     "output_type": "stream",
     "text": [
      "CPU times: user 20 ms, sys: 10 ms, total: 30 ms\n",
      "Wall time: 51.1 s\n"
     ]
    }
   ],
   "source": [
    "%%time\n",
    "%%bash\n",
    "\n",
    "apt-get install apt-utils dselect dpkg\n",
    "\n",
    "echo \"OSTYPE=$OSTYPE\"\n",
    "if [[ \"$OSTYPE\" == \"cygwin\" ]] || [[ \"$OSTYPE\" == \"msys\" ]] ; then\n",
    "    echo \"Windows or Windows-like environment detected, script not tested, and may not work.\"\n",
    "    echo \"Try installing the components mention in the install-[ostype].sh scripts manually.\"\n",
    "    echo \"Or try running under CGYWIN or git-bash.\"\n",
    "    echo \"If successfully installed, please contribute back with the solution via a pull request, to https://github.com/neomatrix369/awesome-ai-ml-dl/\"\n",
    "    echo \"Please give the file a good name, i.e. install-windows.sh or install-windows.bat depending on what kind of script you end up writing\"\n",
    "    exit 0\n",
    "elif [[ \"$OSTYPE\" == \"linux-gnu\" ]] || [[ \"$OSTYPE\" == \"linux\" ]]; then\n",
    "    TARGET_OS=\"linux\"\n",
    "else\n",
    "    TARGET_OS=\"macos\"\n",
    "fi\n",
    "\n",
    "if [[ -e ../../library/org/neomatrix369 ]]; then\n",
    "  echo \"Library source found\"\n",
    "  \n",
    "  cd ../../build\n",
    "  \n",
    "  echo \"Detected OS: ${TARGET_OS}\"\n",
    "  ./install-${TARGET_OS}.sh || true\n",
    "else\n",
    "  if [[ -e awesome-ai-ml-dl/examples/better-nlp/library ]]; then\n",
    "     echo \"Library source found\"\n",
    "  else\n",
    "     git clone \"https://github.com/neomatrix369/awesome-ai-ml-dl\"\n",
    "  fi\n",
    "\n",
    "  echo \"Library source exists\"\n",
    "  cd awesome-ai-ml-dl/examples/better-nlp/build\n",
    "\n",
    "  echo \"Detected OS: ${TARGET_OS}\"\n",
    "  ./install-${TARGET_OS}.sh || true \n",
    "fi"
   ]
  },
  {
   "cell_type": "markdown",
   "metadata": {
    "colab_type": "text",
    "id": "RtvtZg2afczS"
   },
   "source": [
    "#### Install Spacy model ( NOT optional )\n",
    "\n",
    "Install the large English language model for spaCy - will be needed for the examples in this notebooks.\n",
    "\n",
    "**Note:** from observation it appears that spaCy model should be installed towards the end of the installation process, it avoid errors when running programs using the model."
   ]
  },
  {
   "cell_type": "code",
   "execution_count": 2,
   "metadata": {
    "colab": {
     "base_uri": "https://localhost:8080/",
     "height": 279
    },
    "colab_type": "code",
    "id": "HLvwAn-DfczT",
    "outputId": "77fe7daf-6186-4b97-d248-82807d92260e"
   },
   "outputs": [
    {
     "name": "stdout",
     "output_type": "stream",
     "text": [
      "Requirement already satisfied: en_core_web_lg==2.1.0 from https://github.com/explosion/spacy-models/releases/download/en_core_web_lg-2.1.0/en_core_web_lg-2.1.0.tar.gz#egg=en_core_web_lg==2.1.0 in /usr/local/lib/python3.7/site-packages (2.1.0)\n",
      "\u001b[38;5;2m✔ Download and installation successful\u001b[0m\n",
      "You can now load the model via spacy.load('en_core_web_lg')\n",
      "\n",
      "\u001b[38;5;1m✘ Link 'en' already exists\u001b[0m\n",
      "To overwrite an existing link, use the --force flag\n",
      "\n",
      "CPU times: user 0 ns, sys: 10 ms, total: 10 ms\n",
      "Wall time: 3.94 s\n"
     ]
    }
   ],
   "source": [
    "%%time\n",
    "%%bash\n",
    "\n",
    "python -m spacy download en_core_web_lg\n",
    "python -m spacy link en_core_web_lg en || true"
   ]
  },
  {
   "cell_type": "markdown",
   "metadata": {
    "colab_type": "text",
    "id": "kwXgEdM8oeUv"
   },
   "source": [
    "## Examples"
   ]
  },
  {
   "cell_type": "markdown",
   "metadata": {
    "colab_type": "text",
    "id": "AX1pZlKofczb"
   },
   "source": [
    "### Extract entities"
   ]
  },
  {
   "cell_type": "code",
   "execution_count": 3,
   "metadata": {
    "colab": {},
    "colab_type": "code",
    "id": "Pe2IZleafczd"
   },
   "outputs": [],
   "source": [
    "import sys\n",
    "sys.path.insert(0, '../../library')\n",
    "sys.path.insert(0, './awesome-ai-ml-dl/examples/better-nlp/library')\n",
    "\n",
    "from org.neomatrix369.better_nlp import BetterNLP"
   ]
  },
  {
   "cell_type": "code",
   "execution_count": 4,
   "metadata": {
    "colab": {},
    "colab_type": "code",
    "id": "cu1TA5ZJfczi"
   },
   "outputs": [],
   "source": [
    "# Can be any factual text or any text to experiment with\n",
    "generic_text = \"\"\"Denis Guedj (1940 – April 24, 2010) was a French novelist and \n",
    "a professor of the History of Science at Paris VIII University. He was born \n",
    "in Setif. He spent many years devising courses and games to teach adults \n",
    "and children math. He is the author of Numbers: The Universal Language and \n",
    "of the novel The Parrot's Theorem. He died in Paris. \n",
    "\"\"\"\n",
    "\n",
    "betterNLP = BetterNLP() ### do not re-run this unless you wish to re-initialise the object"
   ]
  },
  {
   "cell_type": "code",
   "execution_count": 5,
   "metadata": {
    "colab": {
     "base_uri": "https://localhost:8080/",
     "height": 104
    },
    "colab_type": "code",
    "id": "iaihh-wofczq",
    "outputId": "7b0dfe83-0ab2-4485-e05b-c2605e3292c8"
   },
   "outputs": [
    {
     "name": "stdout",
     "output_type": "stream",
     "text": [
      "Loading model 'en'...\n",
      "~~~~~~~~~~~~~~~~~~~~~~~~~~~~~~~~~~~~~~~~~~~~~~~~~~~~~~~~~~~~~~~~~~~~~~~~~~~~~~~~~~~~~~~~~~~~~~~~~~~~~~~~~\n",
      "model_loading_time_in_secs= 16.686287879943848\n",
      "model_loading_method= directly, first time\n",
      "~~~~~~~~~~~~~~~~~~~~~~~~~~~~~~~~~~~~~~~~~~~~~~~~~~~~~~~~~~~~~~~~~~~~~~~~~~~~~~~~~~~~~~~~~~~~~~~~~~~~~~~~~\n"
     ]
    }
   ],
   "source": [
    "model_loading_result = betterNLP.load_nlp_model()\n",
    "print(\"~~~~~~~~~~~~~~~~~~~~~~~~~~~~~~~~~~~~~~~~~~~~~~~~~~~~~~~~~~~~~~~~~~~~~~~~~~~~~~~~~~~~~~~~~~~~~~~~~~~~~~~~~\")\n",
    "print(\"model_loading_time_in_secs=\",model_loading_result['model_loading_time_in_secs'])\n",
    "print(\"model_loading_method=\",model_loading_result['model_loading_method'])\n",
    "print(\"~~~~~~~~~~~~~~~~~~~~~~~~~~~~~~~~~~~~~~~~~~~~~~~~~~~~~~~~~~~~~~~~~~~~~~~~~~~~~~~~~~~~~~~~~~~~~~~~~~~~~~~~~\")\n",
    "\n",
    "model = model_loading_result[\"model\"]"
   ]
  },
  {
   "cell_type": "code",
   "execution_count": 6,
   "metadata": {
    "colab": {
     "base_uri": "https://localhost:8080/",
     "height": 570
    },
    "colab_type": "code",
    "id": "empjCbipfczu",
    "outputId": "d58b032e-a7d2-41d0-dc07-8e2267f8c552"
   },
   "outputs": [
    {
     "name": "stdout",
     "output_type": "stream",
     "text": [
      "~~~~~~~~~~~~~~~~~~~~~~~~~~~~~~~~~~~~~~~~~~~~~~~~~~~~~~~~~~~~~~~~~~~~~~~~~~~~~~~~~~~~~~~~~~~~~~~~~~~~~~~~~\n",
      "extract_entities_processing_time_in_secs= 0.04713106155395508\n",
      "~~~~~~~~~~~~~~~~~~~~~~~~~~~~~~~~~~~~~~~~~~~~~~~~~~~~~~~~~~~~~~~~~~~~~~~~~~~~~~~~~~~~~~~~~~~~~~~~~~~~~~~~~\n",
      "~~~~~~~~~~~~~~~~~~~~~~~~~~~~~~~~~~~~~~~~~~~~~~~~~~~~~~~~~~~~~~~~~~~~~~~~~~~~~~~~~~~~~~~~~~~~~~~~~~~~~~~~~\n",
      "Denis Guedj (PERSON)\n",
      "1940 – April 24, 2010 (DATE)\n",
      "French (NORP)\n",
      "the History of Science (ORG)\n",
      "Paris VIII University (ORG)\n",
      "Setif (NORP)\n",
      "many years (DATE)\n",
      "The Parrot's Theorem (WORK_OF_ART)\n",
      "Paris (GPE)\n",
      "~~~~~~~~~~~~~~~~~~~~~~~~~~~~~~~~~~~~~~~~~~~~~~~~~~~~~~~~~~~~~~~~~~~~~~~~~~~~~~~~~~~~~~~~~~~~~~~~~~~~~~~~~\n",
      "                                   Token entity types\n",
      "0                PERSON = People, including fictional\n",
      "1   NORP = Nationalities or religious or political...\n",
      "2   FAC = Buildings, airports, highways, bridges, etc\n",
      "3        ORG = Companies, agencies, institutions, etc\n",
      "4                     GPE = Countries, cities, states\n",
      "5   LOC = Non-GPE locations, mountain ranges, bodi...\n",
      "6   PRODUCT = Objects, vehicles, foods, etc. (Not ...\n",
      "7   EVENT = Named hurricanes, battles, wars, sport...\n",
      "8           WORK_OF_ART = Titles of books, songs, etc\n",
      "9                LAW = Named documents made into laws\n",
      "10                      LANGUAGE = Any named language\n",
      "11       DATE = Absolute or relative dates or periods\n",
      "12                    TIME = Times smaller than a day\n",
      "13                PERCENT = Percentage, including ”%“\n",
      "14            MONEY = Monetary values, including unit\n",
      "15  QUANTITY = Measurements, as of weight or distance\n",
      "16                   ORDINAL = “first”, “second”, etc\n",
      "17  CARDINAL = Numerals that do not fall under ano...\n"
     ]
    }
   ],
   "source": [
    "parsed_generic_text = betterNLP.extract_entities(model, generic_text)\n",
    "print(\"~~~~~~~~~~~~~~~~~~~~~~~~~~~~~~~~~~~~~~~~~~~~~~~~~~~~~~~~~~~~~~~~~~~~~~~~~~~~~~~~~~~~~~~~~~~~~~~~~~~~~~~~~\")\n",
    "print(\"extract_entities_processing_time_in_secs=\", parsed_generic_text['extract_entities_processing_time_in_secs'])\n",
    "print(\"~~~~~~~~~~~~~~~~~~~~~~~~~~~~~~~~~~~~~~~~~~~~~~~~~~~~~~~~~~~~~~~~~~~~~~~~~~~~~~~~~~~~~~~~~~~~~~~~~~~~~~~~~\")\n",
    "\n",
    "parsed_generic_text = parsed_generic_text['parsed_text']\n",
    "print(\"~~~~~~~~~~~~~~~~~~~~~~~~~~~~~~~~~~~~~~~~~~~~~~~~~~~~~~~~~~~~~~~~~~~~~~~~~~~~~~~~~~~~~~~~~~~~~~~~~~~~~~~~~\")\n",
    "[print(f\"{each_entity.text} ({each_entity.label_})\") for each_entity in parsed_generic_text.ents if each_entity.text.strip() == each_entity.text]\n",
    "print(\"~~~~~~~~~~~~~~~~~~~~~~~~~~~~~~~~~~~~~~~~~~~~~~~~~~~~~~~~~~~~~~~~~~~~~~~~~~~~~~~~~~~~~~~~~~~~~~~~~~~~~~~~~\")\n",
    "print(betterNLP.token_entity_types())"
   ]
  },
  {
   "cell_type": "markdown",
   "metadata": {
    "colab_type": "text",
    "id": "T7A3p05vfcz0"
   },
   "source": [
    "### Noun extraction"
   ]
  },
  {
   "cell_type": "code",
   "execution_count": 7,
   "metadata": {
    "colab": {
     "base_uri": "https://localhost:8080/",
     "height": 190
    },
    "colab_type": "code",
    "id": "hetkfphHfcz2",
    "outputId": "0c6d1d9b-3bd7-45ad-b5df-c3c8cb2feceb"
   },
   "outputs": [
    {
     "name": "stdout",
     "output_type": "stream",
     "text": [
      "~~~~~~~~~~~~~~~~~~~~~~~~~~~~~~~~~~~~~~~~~~~~~~~~~~~~~~~~~~~~~~~~~~~~~~~~~~~~~~~~~~~~~~~~~~~~~~~~~~~~~~~~~\n",
      "A list of words that belong together (in lowercase):\n",
      "parrot's theorem\n",
      "denis guedj\n",
      "1940 – april\n",
      "universal language\n",
      "french novelist\n",
      "paris viii university\n",
      "many years\n",
      "children math\n",
      "~~~~~~~~~~~~~~~~~~~~~~~~~~~~~~~~~~~~~~~~~~~~~~~~~~~~~~~~~~~~~~~~~~~~~~~~~~~~~~~~~~~~~~~~~~~~~~~~~~~~~~~~~\n"
     ]
    }
   ],
   "source": [
    "chunks = betterNLP.extract_nouns_chunks(model, generic_text)\n",
    "chunks = chunks.get(\"noun_chunks\")\n",
    "print(\"~~~~~~~~~~~~~~~~~~~~~~~~~~~~~~~~~~~~~~~~~~~~~~~~~~~~~~~~~~~~~~~~~~~~~~~~~~~~~~~~~~~~~~~~~~~~~~~~~~~~~~~~~\")\n",
    "set_of_noun_chunks = set(chunks)\n",
    "if len(set_of_noun_chunks) == 0:\n",
    "\tprint(\"Did not find words that belong together.\")\n",
    "else:\n",
    "\tprint(\"A list of words that belong together (in lowercase):\")\n",
    "\n",
    "[print(each_noun_chunk) for each_noun_chunk in set_of_noun_chunks if len(each_noun_chunk.split(\" \")) > betterNLP.minimum_occurrence_frequency]\n",
    "print(\"~~~~~~~~~~~~~~~~~~~~~~~~~~~~~~~~~~~~~~~~~~~~~~~~~~~~~~~~~~~~~~~~~~~~~~~~~~~~~~~~~~~~~~~~~~~~~~~~~~~~~~~~~\")"
   ]
  },
  {
   "cell_type": "markdown",
   "metadata": {
    "colab_type": "text",
    "id": "s2kyTI6bfcz7"
   },
   "source": [
    "### Gather facts"
   ]
  },
  {
   "cell_type": "code",
   "execution_count": 8,
   "metadata": {
    "colab": {},
    "colab_type": "code",
    "id": "dw8PDy9Ofcz8"
   },
   "outputs": [],
   "source": [
    "target_topic = \"Denis Guedj\"\n",
    "extracted_facts = betterNLP.extract_facts(model, generic_text, target_topic)"
   ]
  },
  {
   "cell_type": "code",
   "execution_count": 9,
   "metadata": {
    "colab": {
     "base_uri": "https://localhost:8080/",
     "height": 104
    },
    "colab_type": "code",
    "id": "aKxvH1Ynfcz_",
    "outputId": "3a267644-b8cc-41c6-bdca-f5b89a495db5"
   },
   "outputs": [
    {
     "name": "stdout",
     "output_type": "stream",
     "text": [
      "~~~~~~~~~~~~~~~~~~~~~~~~~~~~~~~~~~~~~~~~~~~~~~~~~~~~~~~~~~~~~~~~~~~~~~~~~~~~~~~~~~~~~~~~~~~~~~~~~~~~~~~~~\n",
      "Trying to gather details about Denis Guedj\n",
      " - a French novelist and \n",
      "a professor of the History of Science at Paris VIII University\n",
      "~~~~~~~~~~~~~~~~~~~~~~~~~~~~~~~~~~~~~~~~~~~~~~~~~~~~~~~~~~~~~~~~~~~~~~~~~~~~~~~~~~~~~~~~~~~~~~~~~~~~~~~~~\n"
     ]
    }
   ],
   "source": [
    "extracted_facts = extracted_facts.get(\"facts\")\n",
    "\n",
    "print(\"~~~~~~~~~~~~~~~~~~~~~~~~~~~~~~~~~~~~~~~~~~~~~~~~~~~~~~~~~~~~~~~~~~~~~~~~~~~~~~~~~~~~~~~~~~~~~~~~~~~~~~~~~\")\n",
    "print(\"Trying to gather details about \" + target_topic)\n",
    "\n",
    "number_of_facts_found = 0\n",
    "for each_fact_statement in extracted_facts:\n",
    "    number_of_facts_found =+ 1\n",
    "    subject, verb, fact = each_fact_statement\n",
    "    print(f\" - {fact}\")\n",
    "\n",
    "if number_of_facts_found == 0:\n",
    "    print(\"There were no facts on \" + target_topic)\n",
    "print(\"~~~~~~~~~~~~~~~~~~~~~~~~~~~~~~~~~~~~~~~~~~~~~~~~~~~~~~~~~~~~~~~~~~~~~~~~~~~~~~~~~~~~~~~~~~~~~~~~~~~~~~~~~\")"
   ]
  },
  {
   "cell_type": "markdown",
   "metadata": {
    "colab_type": "text",
    "id": "4jQLb4Sqfc0E"
   },
   "source": [
    "### Obfuscate privacy details"
   ]
  },
  {
   "cell_type": "code",
   "execution_count": 10,
   "metadata": {
    "colab": {
     "base_uri": "https://localhost:8080/",
     "height": 89
    },
    "colab_type": "code",
    "id": "_bmI2UcSfc0F",
    "outputId": "049c4553-d542-43f5-8dc3-c479f7c0720d"
   },
   "outputs": [
    {
     "name": "stdout",
     "output_type": "stream",
     "text": [
      "~~~~~~~~~~~~~~~~~~~~~~~~~~~~~~~~~~~~~~~~~~~~~~~~~~~~~~~~~~~~~~~~~~~~~~~~~~~~~~~~~~~~~~~~~~~~~~~~~~~~~~~~~\n",
      "Obfuscated generic text:  [OBFUSCATED] (1940 – April 24, 2010) was a French novelist and a professor of the History of Science at Paris VIII University. He was born in Setif. He spent many years devising courses and games to teach adults and children math. He is the author of Numbers: The Universal Language and of the novel The Parrot's Theorem. He died in Paris. \n",
      "~~~~~~~~~~~~~~~~~~~~~~~~~~~~~~~~~~~~~~~~~~~~~~~~~~~~~~~~~~~~~~~~~~~~~~~~~~~~~~~~~~~~~~~~~~~~~~~~~~~~~~~~~\n"
     ]
    }
   ],
   "source": [
    "obfuscated_text = betterNLP.obfuscate_text(model, generic_text)\n",
    "obfuscated_text = obfuscated_text.get(\"obfuscated_text\")\n",
    "print(\"~~~~~~~~~~~~~~~~~~~~~~~~~~~~~~~~~~~~~~~~~~~~~~~~~~~~~~~~~~~~~~~~~~~~~~~~~~~~~~~~~~~~~~~~~~~~~~~~~~~~~~~~~\")\n",
    "print(\"Obfuscated generic text: \", \"\".join(obfuscated_text))\n",
    "print(\"~~~~~~~~~~~~~~~~~~~~~~~~~~~~~~~~~~~~~~~~~~~~~~~~~~~~~~~~~~~~~~~~~~~~~~~~~~~~~~~~~~~~~~~~~~~~~~~~~~~~~~~~~\")"
   ]
  },
  {
   "cell_type": "code",
   "execution_count": null,
   "metadata": {
    "colab": {},
    "colab_type": "code",
    "id": "H_JfZhqwfc0J"
   },
   "outputs": [],
   "source": []
  }
 ],
 "metadata": {
  "colab": {
   "collapsed_sections": [],
   "name": "better-nlp-spacy-texacy-examples.ipynb",
   "provenance": [],
   "version": "0.3.2"
  },
  "kernelspec": {
   "display_name": "Python 3",
   "language": "python",
   "name": "python3"
  },
  "language_info": {
   "codemirror_mode": {
    "name": "ipython",
    "version": 3
   },
   "file_extension": ".py",
   "mimetype": "text/x-python",
   "name": "python",
   "nbconvert_exporter": "python",
   "pygments_lexer": "ipython3",
   "version": "3.7.3"
  }
 },
 "nbformat": 4,
 "nbformat_minor": 2
}
