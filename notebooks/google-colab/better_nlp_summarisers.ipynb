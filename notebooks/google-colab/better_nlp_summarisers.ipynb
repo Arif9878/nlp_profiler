{
 "nbformat": 4,
 "nbformat_minor": 2,
  "metadata": {
    "colab": {
      "name": "better_nlp_summarisers.ipynb",
      "version": "0.3.2",
      "provenance": [],
      "collapsed_sections": [],
      "include_colab_link": true
    },
    "language_info": {
      "codemirror_mode": {
        "name": "ipython",
        "version": 3
      },
      "file_extension": ".py",
      "mimetype": "text/x-python",
      "name": "python",
      "nbconvert_exporter": "python",
      "pygments_lexer": "ipython3",
      "version": "3.7.3"
    },
    "kernelspec": {
      "display_name": "Python 3",
      "language": "python",
      "name": "python3"
    }
  },
"cells": [
  {
      "cell_type": "markdown",
      "metadata": {
        "id": "view-in-github",
        "colab_type": "text"
      },
      "source": [
        "<a href=\"https://colab.research.google.com/github/neomatrix369/awesome-ai-ml-dl/blob/master/examples/better-nlp/notebooks/google-colab/better_nlp_summarisers.ipynb\" target=\"_parent\"><img src=\"https://colab.research.google.com/assets/colab-badge.svg\" alt=\"Open In Colab\"/></a>"
      ]
    },
  {
   "cell_type": "markdown",
   "metadata": {
    "colab_type": "text",
    "id": "iFyUOrS1fczL"
   },
   "source": [
    "# Better NLP\n",
    "\n",
    "This is a wrapper program/library that encapsulates a couple of NLP libraries that are popular among the AI and ML communities.\n",
    "\n",
    "Examples have been used to illustrate the usage as much as possible. Not all the APIs of the underlying libraries have been covered.\n",
    "\n",
    "The idea is to keep the API language as high-level as possible, so its easier to use and stays human-readable.\n",
    "\n",
    "Libraries / frameworks covered:\n",
    "\n",
    "- nltk [site](http://www.nltk.org/) | [docs](https://buildmedia.readthedocs.org/media/pdf/nltk/latest/nltk.pdf)\n",
    "- numpy [site](https://www.numpy.org/) | [docs](https://docs.scipy.org/doc/)\n",
    "- networkx [site](https://networkx.github.io/) | [docs](https://networkx.github.io/documentation/stable/index.html)\n",
    "\n",
    "See [https://github.com/neomatrix369/awesome-ai-ml-dl/blob/master/examples/better-nlp](https://github.com/neomatrix369/awesome-ai-ml-dl/blob/master/examples/better-nlp) for more details.\n",
    "\n",
    "### This notebook will demonstrate the below NLP features / functionalities, using the above mentioned libraries\n",
    "\n",
    "- Cosine similarity summarisation technique (extractive summarisation)\n",
    "- Vertex ranking algorithm summarisation technique\n",
    "- Build a simple text summarisation tool using NLTK\n",
    "- Summarisation 4 (TODO)\n",
    "- Summarisation 5 (TODO)\n",
    "\n",
    "_Summarisation can be defined as a task of producing a concise and fluent summary while preserving key information and overall meaning._"
   ]
  },
  {
   "cell_type": "markdown",
   "metadata": {
    "colab_type": "text",
    "id": "IMTAIhz53w8G"
   },
   "source": [
    "### Resources\n",
    "\n",
    "- [Understand Text Summarization and create your own summarizer in python](https://towardsdatascience.com/understand-text-summarization-and-create-your-own-summarizer-in-python-b26a9f09fc70)\n",
    "- [An Introduction to Text Summarization using the TextRank Algorithm (with Python implementation)](https://www.analyticsvidhya.com/blog/2018/11/introduction-text-summarization-textrank-python/)\n",
    "- [Beyond bag of words: Using PyTextRank to find Phrases and Summarize text](https://medium.com/@aneesha/beyond-bag-of-words-using-pytextrank-to-find-phrases-and-summarize-text-f736fa3773c5)\n",
    "- [Build a simple text summarisation tool using NLTK](https://medium.com/@wilamelima/build-a-simple-text-summarisation-tool-using-nltk-ff0984fedb4f)\n",
    "- [Summarise Text with TFIDF in Python](https://medium.com/@shivangisareen/summarise-text-with-tfidf-in-python-bc7ca10d3284)\n",
    "- [How to Make a Text Summarizer - Intro to Deep Learning #10 by Siraj Raval](https://www.youtube.com/watch?v=ogrJaOIuBx4)"
   ]
  },
  {
   "cell_type": "markdown",
   "metadata": {
    "colab_type": "text",
    "id": "Lre8GErufczN"
   },
   "source": [
    "#### Setup and installation ( optional )\n",
    "\n",
    "In case, this notebook is running in a local environment (Linux/MacOS) or _Google Colab_ environment and in case it does not have the necessary dependencies installed then please execute the steps in the next section.\n",
    "\n",
    "Otherwise, please SKIP to the **Install Spacy model ( NOT optional )** section."
   ]
  },
  {
   "cell_type": "code",
   "execution_count": null,
   "metadata": {
    "colab": {
     "base_uri": "https://localhost:8080/",
     "height": 5927
    },
    "colab_type": "code",
    "id": "QJuCUOMOfczO",
    "outputId": "018e9102-de25-4fbe-b5b3-919c58644f00"
   },
   "outputs": [
    {
     "name": "stdout",
     "output_type": "stream",
     "text": [
      "Reading package lists...\n",
      "Building dependency tree...\n",
      "Reading state information...\n",
      "dpkg is already the newest version (1.18.25).\n",
      "dpkg set to manually installed.\n",
      "The following NEW packages will be installed:\n",
      "  apt-utils dselect libapt-inst2.0\n",
      "0 upgraded, 3 newly installed, 0 to remove and 28 not upgraded.\n",
      "Need to get 1888 kB of archives.\n",
      "After this operation, 4168 kB of additional disk space will be used.\n",
      "Get:1 http://deb.debian.org/debian stretch/main amd64 libapt-inst2.0 amd64 1.4.9 [192 kB]\n",
      "Get:2 http://deb.debian.org/debian stretch/main amd64 apt-utils amd64 1.4.9 [410 kB]\n",
      "Get:3 http://deb.debian.org/debian stretch/main amd64 dselect amd64 1.18.25 [1285 kB]\n",
      "Fetched 1888 kB in 1s (1842 kB/s)\n",
      "Selecting previously unselected package libapt-inst2.0:amd64.\n",
      "(Reading database ... 36312 files and directories currently installed.)\n",
      "Preparing to unpack .../libapt-inst2.0_1.4.9_amd64.deb ...\n",
      "Unpacking libapt-inst2.0:amd64 (1.4.9) ...\n",
      "Selecting previously unselected package apt-utils.\n",
      "Preparing to unpack .../apt-utils_1.4.9_amd64.deb ...\n",
      "Unpacking apt-utils (1.4.9) ...\n",
      "Selecting previously unselected package dselect.\n",
      "Preparing to unpack .../dselect_1.18.25_amd64.deb ...\n",
      "Unpacking dselect (1.18.25) ...\n",
      "Setting up libapt-inst2.0:amd64 (1.4.9) ...\n",
      "Setting up apt-utils (1.4.9) ...\n",
      "Setting up dselect (1.18.25) ...\n",
      "Processing triggers for libc-bin (2.24-11+deb9u4) ...\n",
      "OSTYPE=linux-gnu\n",
      "Library source found\n",
      "Detected OS: linux\n",
      "Please check if you fulfill the requirements mentioned in the README file.\n",
      "Get:1 http://security.debian.org/debian-security stretch/updates InRelease [94.3 kB]\n",
      "Ign:2 http://deb.debian.org/debian stretch InRelease\n",
      "Get:3 http://deb.debian.org/debian stretch-updates InRelease [91.0 kB]\n",
      "Hit:4 http://deb.debian.org/debian stretch Release\n",
      "Hit:5 https://deb.nodesource.com/node_8.x stretch InRelease\n",
      "Get:6 http://security.debian.org/debian-security stretch/updates/main amd64 Packages [499 kB]\n",
      "Get:7 http://deb.debian.org/debian stretch-updates/main amd64 Packages.diff/Index [10.1 kB]\n",
      "Get:9 http://deb.debian.org/debian stretch-updates/main amd64 Packages 2019-05-18-1409.05.pdiff [51 B]\n",
      "Get:9 http://deb.debian.org/debian stretch-updates/main amd64 Packages 2019-05-18-1409.05.pdiff [51 B]\n",
      "Fetched 694 kB in 1s (606 kB/s)\n",
      "Reading package lists...\n",
      "Reading package lists...\n",
      "Building dependency tree...\n",
      "Reading state information...\n",
      "curl is already the newest version (7.52.1-5+deb9u9).\n",
      "liblapack-dev is already the newest version (3.7.0-2).\n",
      "pkg-config is already the newest version (0.29-4+b1).\n",
      "wget is already the newest version (1.18-5+deb9u3).\n",
      "The following additional packages will be installed:\n",
      "  libavutil-dev libavutil55 libswscale4\n",
      "The following packages will be upgraded:\n",
      "  libavutil-dev libavutil55 libswscale-dev libswscale4\n",
      "4 upgraded, 0 newly installed, 0 to remove and 35 not upgraded.\n",
      "Need to get 949 kB of archives.\n",
      "After this operation, 123 kB disk space will be freed.\n",
      "Get:1 http://security.debian.org/debian-security stretch/updates/main amd64 libswscale-dev amd64 7:3.2.14-1~deb9u1 [213 kB]\n",
      "Get:2 http://security.debian.org/debian-security stretch/updates/main amd64 libavutil-dev amd64 7:3.2.14-1~deb9u1 [318 kB]\n",
      "Get:3 http://security.debian.org/debian-security stretch/updates/main amd64 libavutil55 amd64 7:3.2.14-1~deb9u1 [221 kB]\n",
      "Get:4 http://security.debian.org/debian-security stretch/updates/main amd64 libswscale4 amd64 7:3.2.14-1~deb9u1 [196 kB]\n",
      "Fetched 949 kB in 0s (979 kB/s)\n",
      "(Reading database ... 36528 files and directories currently installed.)\n",
      "Preparing to unpack .../libswscale-dev_7%3a3.2.14-1~deb9u1_amd64.deb ...\n",
      "Unpacking libswscale-dev:amd64 (7:3.2.14-1~deb9u1) over (7:3.2.12-1~deb9u1) ...\n",
      "Preparing to unpack .../libavutil-dev_7%3a3.2.14-1~deb9u1_amd64.deb ...\n",
      "Unpacking libavutil-dev:amd64 (7:3.2.14-1~deb9u1) over (7:3.2.12-1~deb9u1) ...\n",
      "Preparing to unpack .../libavutil55_7%3a3.2.14-1~deb9u1_amd64.deb ...\n",
      "Unpacking libavutil55:amd64 (7:3.2.14-1~deb9u1) over (7:3.2.12-1~deb9u1) ...\n",
      "Preparing to unpack .../libswscale4_7%3a3.2.14-1~deb9u1_amd64.deb ...\n",
      "Unpacking libswscale4:amd64 (7:3.2.14-1~deb9u1) over (7:3.2.12-1~deb9u1) ...\n",
      "Setting up libavutil55:amd64 (7:3.2.14-1~deb9u1) ...\n",
      "Processing triggers for libc-bin (2.24-11+deb9u4) ...\n",
      "Setting up libswscale4:amd64 (7:3.2.14-1~deb9u1) ...\n",
      "Setting up libavutil-dev:amd64 (7:3.2.14-1~deb9u1) ...\n",
      "Setting up libswscale-dev:amd64 (7:3.2.14-1~deb9u1) ...\n",
      "Processing triggers for libc-bin (2.24-11+deb9u4) ...\n",
      "Reading package lists...\n",
      "Building dependency tree...\n",
      "Reading state information...\n",
      "zip is already the newest version (3.0-11+b1).\n",
      "The following additional packages will be installed:\n",
      "  vim-common vim-runtime\n",
      "Suggested packages:\n",
      "  ctags vim-doc vim-scripts\n",
      "The following packages will be upgraded:\n",
      "  vim vim-common vim-runtime\n",
      "3 upgraded, 0 newly installed, 0 to remove and 32 not upgraded.\n",
      "Need to get 6602 kB of archives.\n",
      "After this operation, 4096 B of additional disk space will be used.\n",
      "Get:1 http://security.debian.org/debian-security stretch/updates/main amd64 vim amd64 2:8.0.0197-4+deb9u3 [1034 kB]\n",
      "Get:2 http://security.debian.org/debian-security stretch/updates/main amd64 vim-runtime all 2:8.0.0197-4+deb9u3 [5409 kB]\n",
      "Get:3 http://security.debian.org/debian-security stretch/updates/main amd64 vim-common all 2:8.0.0197-4+deb9u3 [159 kB]\n",
      "Fetched 6602 kB in 2s (2300 kB/s)\n",
      "(Reading database ... 36528 files and directories currently installed.)\n",
      "Preparing to unpack .../vim_2%3a8.0.0197-4+deb9u3_amd64.deb ...\n",
      "Unpacking vim (2:8.0.0197-4+deb9u3) over (2:8.0.0197-4+deb9u1) ...\n",
      "Preparing to unpack .../vim-runtime_2%3a8.0.0197-4+deb9u3_all.deb ...\n",
      "Unpacking vim-runtime (2:8.0.0197-4+deb9u3) over (2:8.0.0197-4+deb9u1) ...\n",
      "Preparing to unpack .../vim-common_2%3a8.0.0197-4+deb9u3_all.deb ...\n",
      "Unpacking vim-common (2:8.0.0197-4+deb9u3) over (2:8.0.0197-4+deb9u1) ...\n",
      "Processing triggers for mime-support (3.60) ...\n",
      "Setting up vim-common (2:8.0.0197-4+deb9u3) ...\n",
      "Setting up vim-runtime (2:8.0.0197-4+deb9u3) ...\n",
      "Processing triggers for hicolor-icon-theme (0.15-1) ...\n",
      "Setting up vim (2:8.0.0197-4+deb9u3) ...\n",
      "\n",
      "## Installing the NodeSource Node.js 8.x LTS Carbon repo...\n",
      "\n",
      "\n",
      "## Populating apt-get cache...\n",
      "\n",
      "+ apt-get update\n",
      "Hit:1 http://security.debian.org/debian-security stretch/updates InRelease\n",
      "Ign:2 http://deb.debian.org/debian stretch InRelease\n",
      "Hit:3 http://deb.debian.org/debian stretch-updates InRelease\n",
      "Hit:4 http://deb.debian.org/debian stretch Release\n",
      "Hit:5 https://deb.nodesource.com/node_8.x stretch InRelease\n",
      "Reading package lists...\n",
      "\n",
      "## Confirming \"stretch\" is supported...\n",
      "\n",
      "+ curl -sLf -o /dev/null 'https://deb.nodesource.com/node_8.x/dists/stretch/Release'\n",
      "\n",
      "## Adding the NodeSource signing key to your keyring...\n",
      "\n",
      "+ curl -s https://deb.nodesource.com/gpgkey/nodesource.gpg.key | apt-key add -\n",
      "OK\n",
      "\n",
      "## Creating apt sources list file for the NodeSource Node.js 8.x LTS Carbon repo...\n",
      "\n",
      "+ echo 'deb https://deb.nodesource.com/node_8.x stretch main' > /etc/apt/sources.list.d/nodesource.list\n",
      "+ echo 'deb-src https://deb.nodesource.com/node_8.x stretch main' >> /etc/apt/sources.list.d/nodesource.list\n",
      "\n",
      "## Running `apt-get update` for you...\n",
      "\n",
      "+ apt-get update\n",
      "Hit:1 http://security.debian.org/debian-security stretch/updates InRelease\n",
      "Ign:2 http://deb.debian.org/debian stretch InRelease\n",
      "Hit:3 http://deb.debian.org/debian stretch-updates InRelease\n",
      "Hit:4 http://deb.debian.org/debian stretch Release\n",
      "Hit:5 https://deb.nodesource.com/node_8.x stretch InRelease\n",
      "Reading package lists...\n",
      "\n",
      "## Run `sudo apt-get install -y nodejs` to install Node.js 8.x LTS Carbon and npm\n",
      "## You may also need development tools to build native addons:\n",
      "     sudo apt-get install gcc g++ make\n",
      "## To install the Yarn package manager, run:\n",
      "     curl -sL https://dl.yarnpkg.com/debian/pubkey.gpg | sudo apt-key add -\n",
      "     echo \"deb https://dl.yarnpkg.com/debian/ stable main\" | sudo tee /etc/apt/sources.list.d/yarn.list\n",
      "     sudo apt-get update && sudo apt-get install yarn\n",
      "\n",
      "\n",
      "Reading package lists...\n",
      "Building dependency tree...\n",
      "Reading state information...\n",
      "nodejs is already the newest version (8.16.0-1nodesource1).\n",
      "0 upgraded, 0 newly installed, 0 to remove and 32 not upgraded.\n",
      "Install components using python and pip\n",
      "/usr/bin/npx -> /usr/lib/node_modules/npm/bin/npx-cli.js\n",
      "/usr/bin/npm -> /usr/lib/node_modules/npm/bin/npm-cli.js\n",
      "+ npm@6.9.2\n",
      "removed 2 packages and updated 4 packages in 33.865s\n",
      "6.9.2\n",
      "Python 3.7.3\n",
      "pip 19.0.3 from /usr/local/lib/python3.7/site-packages/pip (python 3.7)\n",
      "Requirement already satisfied: spacy in /usr/local/lib/python3.7/site-packages (2.1.4)\n",
      "Requirement already satisfied: textacy in /usr/local/lib/python3.7/site-packages (0.7.0)\n",
      "Requirement already satisfied: jsonschema<3.1.0,>=2.6.0 in /usr/local/lib/python3.7/site-packages (from spacy) (3.0.1)\n",
      "Requirement already satisfied: thinc<7.1.0,>=7.0.2 in /usr/local/lib/python3.7/site-packages (from spacy) (7.0.4)\n",
      "Requirement already satisfied: murmurhash<1.1.0,>=0.28.0 in /usr/local/lib/python3.7/site-packages (from spacy) (1.0.2)\n",
      "Requirement already satisfied: srsly<1.1.0,>=0.0.5 in /usr/local/lib/python3.7/site-packages (from spacy) (0.0.5)\n",
      "Requirement already satisfied: cymem<2.1.0,>=2.0.2 in /usr/local/lib/python3.7/site-packages (from spacy) (2.0.2)\n",
      "Requirement already satisfied: preshed<2.1.0,>=2.0.1 in /usr/local/lib/python3.7/site-packages (from spacy) (2.0.1)\n",
      "Requirement already satisfied: plac<1.0.0,>=0.9.6 in /usr/local/lib/python3.7/site-packages (from spacy) (0.9.6)\n",
      "Requirement already satisfied: wasabi<1.1.0,>=0.2.0 in /usr/local/lib/python3.7/site-packages (from spacy) (0.2.2)\n",
      "Requirement already satisfied: blis<0.3.0,>=0.2.2 in /usr/local/lib/python3.7/site-packages (from spacy) (0.2.4)\n",
      "Requirement already satisfied: requests<3.0.0,>=2.13.0 in /usr/local/lib/python3.7/site-packages (from spacy) (2.21.0)\n",
      "Requirement already satisfied: numpy>=1.15.0 in /usr/local/lib/python3.7/site-packages (from spacy) (1.16.3)\n",
      "Requirement already satisfied: networkx>=1.11 in /usr/local/lib/python3.7/site-packages (from textacy) (2.3)\n",
      "Requirement already satisfied: cytoolz>=0.8.0 in /usr/local/lib/python3.7/site-packages (from textacy) (0.9.0.1)\n",
      "Requirement already satisfied: python-levenshtein>=0.12.0 in /usr/local/lib/python3.7/site-packages (from textacy) (0.12.0)\n",
      "Requirement already satisfied: cachetools>=2.0.0 in /usr/local/lib/python3.7/site-packages (from textacy) (3.1.0)\n",
      "Requirement already satisfied: scikit-learn<0.21.0,>=0.17.0 in /usr/local/lib/python3.7/site-packages (from textacy) (0.20.3)\n",
      "Requirement already satisfied: tqdm>=4.11.1 in /usr/local/lib/python3.7/site-packages (from textacy) (4.32.1)\n",
      "Requirement already satisfied: pyemd>=0.3.0 in /usr/local/lib/python3.7/site-packages (from textacy) (0.5.1)\n",
      "Requirement already satisfied: pyphen>=0.9.4 in /usr/local/lib/python3.7/site-packages (from textacy) (0.9.5)\n",
      "Requirement already satisfied: scipy>=0.17.0 in /usr/local/lib/python3.7/site-packages (from textacy) (1.2.1)\n",
      "Requirement already satisfied: joblib>=0.13.0 in /usr/local/lib/python3.7/site-packages (from textacy) (0.13.2)\n",
      "Requirement already satisfied: setuptools in /usr/local/lib/python3.7/site-packages (from jsonschema<3.1.0,>=2.6.0->spacy) (40.8.0)\n",
      "Requirement already satisfied: pyrsistent>=0.14.0 in /usr/local/lib/python3.7/site-packages (from jsonschema<3.1.0,>=2.6.0->spacy) (0.15.2)\n",
      "Requirement already satisfied: attrs>=17.4.0 in /usr/local/lib/python3.7/site-packages (from jsonschema<3.1.0,>=2.6.0->spacy) (19.1.0)\n",
      "Requirement already satisfied: six>=1.11.0 in /usr/local/lib/python3.7/site-packages (from jsonschema<3.1.0,>=2.6.0->spacy) (1.12.0)\n",
      "Requirement already satisfied: urllib3<1.25,>=1.21.1 in /usr/local/lib/python3.7/site-packages (from requests<3.0.0,>=2.13.0->spacy) (1.24.3)\n",
      "Requirement already satisfied: idna<2.9,>=2.5 in /usr/local/lib/python3.7/site-packages (from requests<3.0.0,>=2.13.0->spacy) (2.8)\n",
      "Requirement already satisfied: certifi>=2017.4.17 in /usr/local/lib/python3.7/site-packages (from requests<3.0.0,>=2.13.0->spacy) (2019.3.9)\n",
      "Requirement already satisfied: chardet<3.1.0,>=3.0.2 in /usr/local/lib/python3.7/site-packages (from requests<3.0.0,>=2.13.0->spacy) (3.0.4)\n",
      "Requirement already satisfied: decorator>=4.3.0 in /usr/local/lib/python3.7/site-packages (from networkx>=1.11->textacy) (4.4.0)\n",
      "Requirement already satisfied: toolz>=0.8.0 in /usr/local/lib/python3.7/site-packages (from cytoolz>=0.8.0->textacy) (0.9.0)\n",
      "Requirement already satisfied: jupyterlab in /root/.local/lib/python3.7/site-packages (0.35.6)\n",
      "Requirement already satisfied: pandas in /root/.local/lib/python3.7/site-packages (0.24.2)\n",
      "Requirement already satisfied: nltk in /root/.local/lib/python3.7/site-packages (3.4.1)\n",
      "Requirement already satisfied: pytextrank in /root/.local/lib/python3.7/site-packages (1.1.0)\n",
      "Requirement already satisfied: matplotlib in /root/.local/lib/python3.7/site-packages (3.0.3)\n",
      "Requirement already satisfied: jupyterlab-server<0.3.0,>=0.2.0 in /root/.local/lib/python3.7/site-packages (from jupyterlab) (0.2.0)\n",
      "Requirement already satisfied: notebook>=4.3.1 in /root/.local/lib/python3.7/site-packages (from jupyterlab) (5.7.8)\n",
      "Requirement already satisfied: pytz>=2011k in /root/.local/lib/python3.7/site-packages (from pandas) (2019.1)\n",
      "Requirement already satisfied: python-dateutil>=2.5.0 in /root/.local/lib/python3.7/site-packages (from pandas) (2.8.0)\n",
      "Requirement already satisfied: numpy>=1.12.0 in /usr/local/lib/python3.7/site-packages (from pandas) (1.16.3)\n",
      "Requirement already satisfied: six in /usr/local/lib/python3.7/site-packages (from nltk) (1.12.0)\n",
      "Requirement already satisfied: graphviz in /root/.local/lib/python3.7/site-packages (from pytextrank) (0.10.1)\n",
      "Requirement already satisfied: statistics in /root/.local/lib/python3.7/site-packages (from pytextrank) (1.0.3.5)\n",
      "Requirement already satisfied: spacy in /usr/local/lib/python3.7/site-packages (from pytextrank) (2.1.4)\n",
      "Requirement already satisfied: datasketch in /root/.local/lib/python3.7/site-packages (from pytextrank) (1.4.3)\n",
      "Requirement already satisfied: networkx in /usr/local/lib/python3.7/site-packages (from pytextrank) (2.3)\n",
      "Requirement already satisfied: cycler>=0.10 in /root/.local/lib/python3.7/site-packages (from matplotlib) (0.10.0)\n",
      "Requirement already satisfied: pyparsing!=2.0.4,!=2.1.2,!=2.1.6,>=2.0.1 in /root/.local/lib/python3.7/site-packages (from matplotlib) (2.4.0)\n",
      "Requirement already satisfied: kiwisolver>=1.0.1 in /root/.local/lib/python3.7/site-packages (from matplotlib) (1.1.0)\n",
      "Requirement already satisfied: jsonschema>=2.6.0 in /usr/local/lib/python3.7/site-packages (from jupyterlab-server<0.3.0,>=0.2.0->jupyterlab) (3.0.1)\n",
      "Requirement already satisfied: ipykernel in /root/.local/lib/python3.7/site-packages (from notebook>=4.3.1->jupyterlab) (5.1.0)\n",
      "Requirement already satisfied: jupyter-core>=4.4.0 in /root/.local/lib/python3.7/site-packages (from notebook>=4.3.1->jupyterlab) (4.4.0)\n",
      "Requirement already satisfied: traitlets>=4.2.1 in /root/.local/lib/python3.7/site-packages (from notebook>=4.3.1->jupyterlab) (4.3.2)\n",
      "Requirement already satisfied: tornado<7,>=4.1 in /root/.local/lib/python3.7/site-packages (from notebook>=4.3.1->jupyterlab) (6.0.2)\n",
      "Requirement already satisfied: pyzmq>=17 in /root/.local/lib/python3.7/site-packages (from notebook>=4.3.1->jupyterlab) (18.0.1)\n",
      "Requirement already satisfied: jinja2 in /root/.local/lib/python3.7/site-packages (from notebook>=4.3.1->jupyterlab) (2.10.1)\n",
      "Requirement already satisfied: nbformat in /root/.local/lib/python3.7/site-packages (from notebook>=4.3.1->jupyterlab) (4.4.0)\n",
      "Requirement already satisfied: Send2Trash in /root/.local/lib/python3.7/site-packages (from notebook>=4.3.1->jupyterlab) (1.5.0)\n",
      "Requirement already satisfied: ipython-genutils in /root/.local/lib/python3.7/site-packages (from notebook>=4.3.1->jupyterlab) (0.2.0)\n",
      "Requirement already satisfied: jupyter-client>=5.2.0 in /root/.local/lib/python3.7/site-packages (from notebook>=4.3.1->jupyterlab) (5.2.4)\n",
      "Requirement already satisfied: prometheus-client in /root/.local/lib/python3.7/site-packages (from notebook>=4.3.1->jupyterlab) (0.6.0)\n",
      "Requirement already satisfied: terminado>=0.8.1 in /root/.local/lib/python3.7/site-packages (from notebook>=4.3.1->jupyterlab) (0.8.2)\n",
      "Requirement already satisfied: nbconvert in /root/.local/lib/python3.7/site-packages (from notebook>=4.3.1->jupyterlab) (5.5.0)\n",
      "Requirement already satisfied: docutils>=0.3 in /root/.local/lib/python3.7/site-packages (from statistics->pytextrank) (0.14)\n",
      "Requirement already satisfied: murmurhash<1.1.0,>=0.28.0 in /usr/local/lib/python3.7/site-packages (from spacy->pytextrank) (1.0.2)\n",
      "Requirement already satisfied: cymem<2.1.0,>=2.0.2 in /usr/local/lib/python3.7/site-packages (from spacy->pytextrank) (2.0.2)\n",
      "Requirement already satisfied: srsly<1.1.0,>=0.0.5 in /usr/local/lib/python3.7/site-packages (from spacy->pytextrank) (0.0.5)\n",
      "Requirement already satisfied: wasabi<1.1.0,>=0.2.0 in /usr/local/lib/python3.7/site-packages (from spacy->pytextrank) (0.2.2)\n",
      "Requirement already satisfied: requests<3.0.0,>=2.13.0 in /usr/local/lib/python3.7/site-packages (from spacy->pytextrank) (2.21.0)\n",
      "Requirement already satisfied: blis<0.3.0,>=0.2.2 in /usr/local/lib/python3.7/site-packages (from spacy->pytextrank) (0.2.4)\n",
      "Requirement already satisfied: thinc<7.1.0,>=7.0.2 in /usr/local/lib/python3.7/site-packages (from spacy->pytextrank) (7.0.4)\n",
      "Requirement already satisfied: plac<1.0.0,>=0.9.6 in /usr/local/lib/python3.7/site-packages (from spacy->pytextrank) (0.9.6)\n",
      "Requirement already satisfied: preshed<2.1.0,>=2.0.1 in /usr/local/lib/python3.7/site-packages (from spacy->pytextrank) (2.0.1)\n",
      "Requirement already satisfied: redis>=2.10.0 in /root/.local/lib/python3.7/site-packages (from datasketch->pytextrank) (3.2.1)\n",
      "Requirement already satisfied: decorator>=4.3.0 in /usr/local/lib/python3.7/site-packages (from networkx->pytextrank) (4.4.0)\n",
      "Requirement already satisfied: setuptools in /usr/local/lib/python3.7/site-packages (from kiwisolver>=1.0.1->matplotlib) (40.8.0)\n",
      "Requirement already satisfied: pyrsistent>=0.14.0 in /usr/local/lib/python3.7/site-packages (from jsonschema>=2.6.0->jupyterlab-server<0.3.0,>=0.2.0->jupyterlab) (0.15.2)\n",
      "Requirement already satisfied: attrs>=17.4.0 in /usr/local/lib/python3.7/site-packages (from jsonschema>=2.6.0->jupyterlab-server<0.3.0,>=0.2.0->jupyterlab) (19.1.0)\n",
      "Requirement already satisfied: ipython>=5.0.0 in /root/.local/lib/python3.7/site-packages (from ipykernel->notebook>=4.3.1->jupyterlab) (7.5.0)\n",
      "Requirement already satisfied: MarkupSafe>=0.23 in /root/.local/lib/python3.7/site-packages (from jinja2->notebook>=4.3.1->jupyterlab) (1.1.1)\n",
      "Requirement already satisfied: ptyprocess; os_name != \"nt\" in /root/.local/lib/python3.7/site-packages (from terminado>=0.8.1->notebook>=4.3.1->jupyterlab) (0.6.0)\n",
      "Requirement already satisfied: entrypoints>=0.2.2 in /root/.local/lib/python3.7/site-packages (from nbconvert->notebook>=4.3.1->jupyterlab) (0.3)\n",
      "Requirement already satisfied: testpath in /root/.local/lib/python3.7/site-packages (from nbconvert->notebook>=4.3.1->jupyterlab) (0.4.2)\n",
      "Requirement already satisfied: defusedxml in /root/.local/lib/python3.7/site-packages (from nbconvert->notebook>=4.3.1->jupyterlab) (0.6.0)\n",
      "Requirement already satisfied: pygments in /root/.local/lib/python3.7/site-packages (from nbconvert->notebook>=4.3.1->jupyterlab) (2.4.0)\n",
      "Requirement already satisfied: pandocfilters>=1.4.1 in /root/.local/lib/python3.7/site-packages (from nbconvert->notebook>=4.3.1->jupyterlab) (1.4.2)\n",
      "Requirement already satisfied: bleach in /root/.local/lib/python3.7/site-packages (from nbconvert->notebook>=4.3.1->jupyterlab) (3.1.0)\n",
      "Requirement already satisfied: mistune>=0.8.1 in /root/.local/lib/python3.7/site-packages (from nbconvert->notebook>=4.3.1->jupyterlab) (0.8.4)\n",
      "Requirement already satisfied: idna<2.9,>=2.5 in /usr/local/lib/python3.7/site-packages (from requests<3.0.0,>=2.13.0->spacy->pytextrank) (2.8)\n",
      "Requirement already satisfied: certifi>=2017.4.17 in /usr/local/lib/python3.7/site-packages (from requests<3.0.0,>=2.13.0->spacy->pytextrank) (2019.3.9)\n",
      "Requirement already satisfied: urllib3<1.25,>=1.21.1 in /usr/local/lib/python3.7/site-packages (from requests<3.0.0,>=2.13.0->spacy->pytextrank) (1.24.3)\n",
      "Requirement already satisfied: chardet<3.1.0,>=3.0.2 in /usr/local/lib/python3.7/site-packages (from requests<3.0.0,>=2.13.0->spacy->pytextrank) (3.0.4)\n",
      "Requirement already satisfied: tqdm<5.0.0,>=4.10.0 in /usr/local/lib/python3.7/site-packages (from thinc<7.1.0,>=7.0.2->spacy->pytextrank) (4.32.1)\n",
      "Requirement already satisfied: prompt-toolkit<2.1.0,>=2.0.0 in /root/.local/lib/python3.7/site-packages (from ipython>=5.0.0->ipykernel->notebook>=4.3.1->jupyterlab) (2.0.9)\n",
      "Requirement already satisfied: jedi>=0.10 in /root/.local/lib/python3.7/site-packages (from ipython>=5.0.0->ipykernel->notebook>=4.3.1->jupyterlab) (0.13.3)\n",
      "Requirement already satisfied: pexpect; sys_platform != \"win32\" in /root/.local/lib/python3.7/site-packages (from ipython>=5.0.0->ipykernel->notebook>=4.3.1->jupyterlab) (4.7.0)\n",
      "Requirement already satisfied: backcall in /root/.local/lib/python3.7/site-packages (from ipython>=5.0.0->ipykernel->notebook>=4.3.1->jupyterlab) (0.1.0)\n",
      "Requirement already satisfied: pickleshare in /root/.local/lib/python3.7/site-packages (from ipython>=5.0.0->ipykernel->notebook>=4.3.1->jupyterlab) (0.7.5)\n",
      "Requirement already satisfied: webencodings in /root/.local/lib/python3.7/site-packages (from bleach->nbconvert->notebook>=4.3.1->jupyterlab) (0.5.1)\n",
      "Requirement already satisfied: wcwidth in /root/.local/lib/python3.7/site-packages (from prompt-toolkit<2.1.0,>=2.0.0->ipython>=5.0.0->ipykernel->notebook>=4.3.1->jupyterlab) (0.1.7)\n",
      "Requirement already satisfied: parso>=0.3.0 in /root/.local/lib/python3.7/site-packages (from jedi>=0.10->ipython>=5.0.0->ipykernel->notebook>=4.3.1->jupyterlab) (0.4.0)\n"
     ]
    },
    {
     "name": "stderr",
     "output_type": "stream",
     "text": [
      "debconf: delaying package configuration, since apt-utils is not installed\n",
      "debconf: unable to initialize frontend: Dialog\n",
      "debconf: (No usable dialog-like program is installed, so the dialog based frontend cannot be used. at /usr/share/perl5/Debconf/FrontEnd/Dialog.pm line 76, <> line 4.)\n",
      "debconf: falling back to frontend: Readline\n",
      "debconf: unable to initialize frontend: Readline\n",
      "debconf: (This frontend requires a controlling tty.)\n",
      "debconf: falling back to frontend: Teletype\n",
      "dpkg-preconfigure: unable to re-open stdin: \n",
      "debconf: unable to initialize frontend: Dialog\n",
      "debconf: (No usable dialog-like program is installed, so the dialog based frontend cannot be used. at /usr/share/perl5/Debconf/FrontEnd/Dialog.pm line 76, <> line 3.)\n",
      "debconf: falling back to frontend: Readline\n",
      "debconf: unable to initialize frontend: Readline\n",
      "debconf: (This frontend requires a controlling tty.)\n",
      "debconf: falling back to frontend: Teletype\n",
      "dpkg-preconfigure: unable to re-open stdin: \n",
      "Warning: apt-key output should not be parsed (stdout is not a terminal)\n",
      "You are using pip version 19.0.3, however version 19.1.1 is available.\n",
      "You should consider upgrading via the 'pip install --upgrade pip' command.\n",
      "You are using pip version 19.0.3, however version 19.1.1 is available.\n",
      "You should consider upgrading via the 'pip install --upgrade pip' command.\n"
     ]
    },
    {
     "name": "stdout",
     "output_type": "stream",
     "text": [
      "CPU times: user 10 ms, sys: 10 ms, total: 20 ms\n",
      "Wall time: 1min 18s\n"
     ]
    }
   ],
   "source": [
    "%%time\n",
    "%%bash\n",
    "\n",
    "apt-get install apt-utils dselect dpkg\n",
    "\n",
    "echo \"OSTYPE=$OSTYPE\"\n",
    "if [[ \"$OSTYPE\" == \"cygwin\" ]] || [[ \"$OSTYPE\" == \"msys\" ]] ; then\n",
    "    echo \"Windows or Windows-like environment detected, script not tested, and may not work.\"\n",
    "    echo \"Try installing the components mention in the install-[ostype].sh scripts manually.\"\n",
    "    echo \"Or try running under CGYWIN or git-bash.\"\n",
    "    echo \"If successfully installed, please contribute back with the solution via a pull request, to https://github.com/neomatrix369/awesome-ai-ml-dl/\"\n",
    "    echo \"Please give the file a good name, i.e. install-windows.sh or install-windows.bat depending on what kind of script you end up writing\"\n",
    "    exit 0\n",
    "elif [[ \"$OSTYPE\" == \"linux-gnu\" ]] || [[ \"$OSTYPE\" == \"linux\" ]]; then\n",
    "    TARGET_OS=\"linux\"\n",
    "else\n",
    "    TARGET_OS=\"macos\"\n",
    "fi\n",
    "\n",
    "if [[ -e ../../library/org/neomatrix369 ]]; then\n",
    "  echo \"Library source found\"\n",
    "  \n",
    "  cd ../../build\n",
    "  \n",
    "  echo \"Detected OS: ${TARGET_OS}\"\n",
    "  ./install-${TARGET_OS}.sh || true\n",
    "else\n",
    "  if [[ -e awesome-ai-ml-dl/examples/better-nlp/library ]]; then\n",
    "     echo \"Library source found\"\n",
    "  else\n",
    "     git clone \"https://github.com/neomatrix369/awesome-ai-ml-dl\"\n",
    "  fi\n",
    "\n",
    "  echo \"Library source exists\"\n",
    "  cd awesome-ai-ml-dl/examples/better-nlp/build\n",
    "\n",
    "  echo \"Detected OS: ${TARGET_OS}\"\n",
    "  ./install-${TARGET_OS}.sh || true \n",
    "fi"
   ]
  },
  {
   "cell_type": "markdown",
   "metadata": {
    "colab_type": "text",
    "id": "vPLdwvt63w8R"
   },
   "source": [
    "#### Install Spacy model ( NOT optional )\n",
    "\n",
    "Install the large English language model for spaCy - will be needed for the examples in this notebooks.\n",
    "\n",
    "**Note:** from observation it appears that spaCy model should be installed towards the end of the installation process, it avoid errors when running programs using the model."
   ]
  },
  {
   "cell_type": "code",
   "execution_count": 15,
   "metadata": {
    "colab": {},
    "colab_type": "code",
    "id": "-dJrJ54a3w8S",
    "outputId": "3da4300b-89a8-43e3-e989-fa7859ecdfc8"
   },
   "outputs": [
    {
     "name": "stdout",
     "output_type": "stream",
     "text": [
      "Collecting en_core_web_lg==2.1.0 from https://github.com/explosion/spacy-models/releases/download/en_core_web_lg-2.1.0/en_core_web_lg-2.1.0.tar.gz#egg=en_core_web_lg==2.1.0\n",
      "  Downloading https://github.com/explosion/spacy-models/releases/download/en_core_web_lg-2.1.0/en_core_web_lg-2.1.0.tar.gz (826.9MB)\n",
      "Installing collected packages: en-core-web-lg\n",
      "  Running setup.py install for en-core-web-lg: started\n",
      "    Running setup.py install for en-core-web-lg: finished with status 'done'\n",
      "Successfully installed en-core-web-lg-2.1.0\n",
      "\u001b[38;5;2m✔ Download and installation successful\u001b[0m\n",
      "You can now load the model via spacy.load('en_core_web_lg')\n",
      "\u001b[38;5;2m✔ Linking successful\u001b[0m\n",
      "/usr/local/lib/python3.7/site-packages/en_core_web_lg -->\n",
      "/usr/local/lib/python3.7/site-packages/spacy/data/en\n",
      "You can now load the model via spacy.load('en')\n"
     ]
    },
    {
     "name": "stderr",
     "output_type": "stream",
     "text": [
      "You are using pip version 19.0.3, however version 19.1.1 is available.\n",
      "You should consider upgrading via the 'pip install --upgrade pip' command.\n"
     ]
    },
    {
     "name": "stdout",
     "output_type": "stream",
     "text": [
      "CPU times: user 10 ms, sys: 20 ms, total: 30 ms\n",
      "Wall time: 5min 31s\n"
     ]
    }
   ],
   "source": [
    "%%time\n",
    "%%bash\n",
    "\n",
    "python -m spacy download en_core_web_lg\n",
    "python -m spacy link en_core_web_lg en || true"
   ]
  },
  {
   "cell_type": "markdown",
   "metadata": {
    "colab_type": "text",
    "id": "kwXgEdM8oeUv"
   },
   "source": [
    "## Examples of various summarisation methods"
   ]
  },
  {
   "cell_type": "markdown",
   "metadata": {
    "colab_type": "text",
    "id": "AX1pZlKofczb"
   },
   "source": [
    "### Cosine similarity summarisation technique (extractive summarisation)\n",
    "\n",
    "**Abstractive Summarization:** Abstractive methods select words based on semantic understanding, even those words did not appear in the source documents. It aims at producing important material in a new way. They interpret and examine the text using advanced natural language techniques in order to generate a new shorter text that conveys the most critical information from the original text.\n",
    "\n",
    "**Flow:** Input document → understand context → semantics → create own summary\n",
    "\n",
    "**Extractive Summarization:** Extractive methods attempt to summarize articles by selecting a subset of words that retain the most important points.\n",
    "\n",
    "**Flow:** Input document → sentences similarity → weight sentences → select sentences with higher rank\n",
    "\n",
    "**Cosine similarity** is a measure of similarity between two non-zero vectors of an inner product space that measures the cosine of the angle between them. Its measures cosine of the angle between vectors. Angle will be 0 if sentences are similar and tend towards 90 as they begin to differ.\n",
    "\n",
    "Inspired by the author of https://towardsdatascience.com/understand-text-summarization-and-create-your-own-summarizer-in-python-b26a9f09fc70"
   ]
  },
  {
   "cell_type": "code",
   "execution_count": 10,
   "metadata": {
    "colab": {},
    "colab_type": "code",
    "id": "Yjan7P5_3w8Z"
   },
   "outputs": [],
   "source": [
    "import sys\n",
    "sys.path.insert(0, '../../library')\n",
    "sys.path.insert(0, './awesome-ai-ml-dl/examples/better-nlp/library')\n",
    "\n",
    "from org.neomatrix369.better_nlp import BetterNLP"
   ]
  },
  {
   "cell_type": "code",
   "execution_count": 11,
   "metadata": {
    "colab": {},
    "colab_type": "code",
    "id": "zpjkLRHe3w8c"
   },
   "outputs": [],
   "source": [
    "betterNLP = BetterNLP() ### do not re-run this unless you wish to re-initialise the object\n",
    "generic_text=\"\"\"In an attempt to build an AI-ready workforce, SmartSoft Corp. announced Smart Colab Program which has been launched to empower the next generation of students with AI-ready skills. Envisioned as a three-year collaborative program, Smart Colab Program will support around 100 institutions with AI infrastructure, course content and curriculum, developer support, development tools and give students access to cloud and AI services. As part of the program, the Palo Alto giant which wants to expand its reach and is planning to build a strong developer ecosystem in India with the program will set up the core AI infrastructure and IoT Hub for the selected campuses. The company will provide AI development tools and Azure AI services such as SmartSoft Corp. Cognitive Services, Bot Services and Machine Learning Services. According to Mark Smith, Country AI Manager, SmartSoft Corp. India, said, \"With AI being the defining technology of our time, it is transforming lives and industry and the jobs of tomorrow will require a different skillset. This will require more collaborations and training and working with AI. That’s why it has become more critical than ever for educational institutions to integrate new cloud and AI technologies. The program is an attempt to ramp up the institutional set-up and build capabilities among the educators to educate the workforce of tomorrow.\" The program aims to build up the cognitive skills and in-depth understanding of developing intelligent cloud connected solutions for applications across industry. Earlier in April this year, the company announced SmartSoft Corp. Advanced Program In AI as a learning track open to the public. The program was developed to provide job ready skills to programmers who wanted to hone their skills in AI and data science with a series of online courses which featured hands-on labs and expert instructors as well. This program also included developer-focused AI school that provided a bunch of assets to help build AI skills.\"\"\""
   ]
  },
  {
   "cell_type": "code",
   "execution_count": 3,
   "metadata": {
    "colab": {},
    "colab_type": "code",
    "id": "-vkYIGs13w8f",
    "outputId": "083398af-ca33-4c1c-f892-e1567de17931"
   },
   "outputs": [
    {
     "name": "stdout",
     "output_type": "stream",
     "text": [
      "~~~~~~~~~~~~~~~~~~~~~~~~~~~~~~~~~~~~~~~~~~~~~~~~~~~~~~~~~~~~~~~~~~~~~~~~~~~~~~~~~~~~~~~~~~~~~~~~~~~~~~~~~\n",
      "summarisation_processing_time_in_secs= 0.07356882095336914\n",
      "summarised_text= The company will provide AI development tools and Azure AI services such as SmartSoft Corp. Envisioned as a three-year collaborative program, Smart Colab Program will support around 100 institutions with AI infrastructure, course content and curriculum, developer support, development tools and give students access to cloud and AI services. According to Mark Smith, Country AI Manager, SmartSoft Corp. Advanced Program In AI as a learning track open to the public. This will require more collaborations and training and working with AI\n",
      "ranked_sentences= [(0.1344483475843947, ['The', 'company', 'will', 'provide', 'AI', 'development', 'tools', 'and', 'Azure', 'AI', 'services', 'such', 'as', 'SmartSoft', 'Corp']), (0.10424930788926609, ['Envisioned', 'as', 'a', 'three-year', 'collaborative', 'program,', 'Smart', 'Colab', 'Program', 'will', 'support', 'around', '100', 'institutions', 'with', 'AI', 'infrastructure,', 'course', 'content', 'and', 'curriculum,', 'developer', 'support,', 'development', 'tools', 'and', 'give', 'students', 'access', 'to', 'cloud', 'and', 'AI', 'services']), (0.09018155296051672, ['According', 'to', 'Mark', 'Smith,', 'Country', 'AI', 'Manager,', 'SmartSoft', 'Corp']), (0.08757177858592194, ['Advanced', 'Program', 'In', 'AI', 'as', 'a', 'learning', 'track', 'open', 'to', 'the', 'public']), (0.07052989184442125, ['This', 'will', 'require', 'more', 'collaborations', 'and', 'training', 'and', 'working', 'with', 'AI']), (0.0690373780667743, ['In', 'an', 'attempt', 'to', 'build', 'an', 'AI-ready', 'workforce,', 'SmartSoft', 'Corp']), (0.06361746932728805, ['The', 'program', 'was', 'developed', 'to', 'provide', 'job', 'ready', 'skills', 'to', 'programmers', 'who', 'wanted', 'to', 'hone', 'their', 'skills', 'in', 'AI', 'and', 'data', 'science', 'with', 'a', 'series', 'of', 'online', 'courses', 'which', 'featured', 'hands-on', 'labs', 'and', 'expert', 'instructors', 'as', 'well']), (0.06340739923819796, ['As', 'part', 'of', 'the', 'program,', 'the', 'Palo', 'Alto', 'giant', 'which', 'wants', 'to', 'expand', 'its', 'reach', 'and', 'is', 'planning', 'to', 'build', 'a', 'strong', 'developer', 'ecosystem', 'in', 'India', 'with', 'the', 'program', 'will', 'set', 'up', 'the', 'core', 'AI', 'infrastructure', 'and', 'IoT', 'Hub', 'for', 'the', 'selected', 'campuses']), (0.06182256247688828, ['The', 'program', 'is', 'an', 'attempt', 'to', 'ramp', 'up', 'the', 'institutional', 'set-up', 'and', 'build', 'capabilities', 'among', 'the', 'educators', 'to', 'educate', 'the', 'workforce', 'of', 'tomorrow.\"', 'The', 'program', 'aims', 'to', 'build', 'up', 'the', 'cognitive', 'skills', 'and', 'in-depth', 'understanding', 'of', 'developing', 'intelligent', 'cloud', 'connected', 'solutions', 'for', 'applications', 'across', 'industry']), (0.056811587785028955, ['That’s', 'why', 'it', 'has', 'become', 'more', 'critical', 'than', 'ever', 'for', 'educational', 'institutions', 'to', 'integrate', 'new', 'cloud', 'and', 'AI', 'technologies']), (0.05680495283402265, ['announced', 'Smart', 'Colab', 'Program', 'which', 'has', 'been', 'launched', 'to', 'empower', 'the', 'next', 'generation', 'of', 'students', 'with', 'AI-ready', 'skills']), (0.05661355569967891, ['Earlier', 'in', 'April', 'this', 'year,', 'the', 'company', 'announced', 'SmartSoft', 'Corp']), (0.051605080775006446, ['India,', 'said,', '\"With', 'AI', 'being', 'the', 'defining', 'technology', 'of', 'our', 'time,', 'it', 'is', 'transforming', 'lives', 'and', 'industry', 'and', 'the', 'jobs', 'of', 'tomorrow', 'will', 'require', 'a', 'different', 'skillset']), (0.0332991349325937, ['Cognitive', 'Services,', 'Bot', 'Services', 'and', 'Machine', 'Learning', 'Services'])]\n",
      "~~~~~~~~~~~~~~~~~~~~~~~~~~~~~~~~~~~~~~~~~~~~~~~~~~~~~~~~~~~~~~~~~~~~~~~~~~~~~~~~~~~~~~~~~~~~~~~~~~~~~~~~~\n"
     ]
    }
   ],
   "source": [
    "summarised_result = betterNLP.summarise(generic_text)\n",
    "\n",
    "print(\"~~~~~~~~~~~~~~~~~~~~~~~~~~~~~~~~~~~~~~~~~~~~~~~~~~~~~~~~~~~~~~~~~~~~~~~~~~~~~~~~~~~~~~~~~~~~~~~~~~~~~~~~~\")\n",
    "print(\"summarisation_processing_time_in_secs=\",summarised_result['summarisation_processing_time_in_secs'])\n",
    "print(\"summarised_text=\",summarised_result['summarised_text'])\n",
    "print(\"ranked_sentences=\",summarised_result['ranked_sentences'])\n",
    "\n",
    "print(\"~~~~~~~~~~~~~~~~~~~~~~~~~~~~~~~~~~~~~~~~~~~~~~~~~~~~~~~~~~~~~~~~~~~~~~~~~~~~~~~~~~~~~~~~~~~~~~~~~~~~~~~~~\")"
   ]
  },
  {
   "cell_type": "markdown",
   "metadata": {
    "colab_type": "text",
    "id": "T7A3p05vfcz0"
   },
   "source": [
    "### Vertex ranking algorithm summarisation technique\n",
    "\n",
    "Using PyTextRank to find Phrases and Summarize text: Multi-word Phrase Extraction and Sentence Extraction for Summarization\n",
    "\n",
    "Inspired by the author of https://medium.com/@aneesha/beyond-bag-of-words-using-pytextrank-to-find-phrases-and-summarize-text-f736fa3773c5 \n",
    "(Notebook: https://github.com/DerwenAI/pytextrank/blob/master/example.ipynb)\n",
    "\n",
    "Another resource to take a look at: https://www.analyticsvidhya.com/blog/2018/11/introduction-text-summarization-textrank-python/"
   ]
  },
  {
   "cell_type": "code",
   "execution_count": 4,
   "metadata": {
    "colab": {},
    "colab_type": "code",
    "id": "JzEgIzdi3w8j",
    "outputId": "dc771fd8-16ef-487d-f23c-9236d62b97d7"
   },
   "outputs": [
    {
     "name": "stderr",
     "output_type": "stream",
     "text": [
      "sed: can't read /usr/local/lib/python3.7/site-packages/pytextrank/pytextrank.py: No such file or directory\n",
      "sed: can't read /usr/local/lib/python3.7/site-packages/pytextrank/pytextrank.py: No such file or directory\n"
     ]
    },
    {
     "name": "stdout",
     "output_type": "stream",
     "text": [
      "CPU times: user 0 ns, sys: 10 ms, total: 10 ms\n",
      "Wall time: 90.6 ms\n"
     ]
    }
   ],
   "source": [
    "%%time\n",
    "%%bash\n",
    "\n",
    "sed -i 's/graph.edge\\[/graph.adj\\[/g' /usr/local/lib/python3.7/site-packages/pytextrank/pytextrank.py || true\n",
    "sed -i 's/, parse=True//g' /usr/local/lib/python3.7/site-packages/pytextrank/pytextrank.py || true\n",
    "\n",
    "sed -i 's/graph.edge\\[/graph.adj\\[/g' ~/.local/lib/python3.7/site-packages/pytextrank/pytextrank.py || true\n",
    "sed -i 's/, parse=True//g' ~/.local/lib/python3.7/site-packages/pytextrank/pytextrank.py || true"
   ]
  },
  {
   "cell_type": "code",
   "execution_count": 5,
   "metadata": {
    "colab": {},
    "colab_type": "code",
    "id": "R0by6FnE3w8n"
   },
   "outputs": [],
   "source": [
    "betterNLP = BetterNLP() ### do not re-run this unless you wish to re-initialise the object"
   ]
  },
  {
   "cell_type": "code",
   "execution_count": 6,
   "metadata": {
    "colab": {},
    "colab_type": "code",
    "id": "w44pghUL3w8r",
    "outputId": "885ba416-64b3-48ef-b27c-9b66f2ca069f"
   },
   "outputs": [
    {
     "name": "stdout",
     "output_type": "stream",
     "text": [
      "~~~~~~~~~~~~~~~~~~~~~~~~~~~~~~~~~~~~~~~~~~~~~~~~~~~~~~~~~~~~~~~~~~~~~~~~~~~~~~~~~~~~~~~~~~~~~~~~~~~~~~~~~\n",
      "summarisation_processing_time_in_secs= 22.113790273666382\n",
      "summarised_text= In an attempt to build an AI-ready workforce, SmartSoft Corp. announced Smart Colab Program which has been launched to empower the next generation of students with AI-ready skills. The company will provide AI development tools and Azure AI services such as SmartSoft Corp. Cognitive Services, Bot Services and Machine Learning Services. SmartSoft Corp. Advanced Program This program also included developer-focused AI school that provided a bunch of assets to help build AI skills.\n",
      "token_ranks= {'attempt': 0.004007163191756598, 'build': 0.02002982046641958, 'ai-ready': 0.0069375144751051485, 'workforce': 0.011319362868030584, 'SmartSoft': 0.006749117712102052, 'Corp.': 0.006869572233498017, 'announce': 0.0038951786096288886, 'Smart': 0.0050421179398664, 'Colab': 0.005993726664964676, 'Program': 0.01087504801470488, 'have': 0.007270800276878689, 'be': 0.024701644219216626, 'launch': 0.005030053864361159, 'empower': 0.007760735175567433, 'next': 0.004874537833359231, 'generation': 0.006946320670837669, 'student': 0.015213902680734172, 'skill': 0.03464233035793559, 'collaborative': 0.001576029381988839, 'program': 0.00737205723007638, 'support': 0.011398916718724877, 'institution': 0.005475735787179809, 'ai': 0.013983655314580103, 'infrastructure': 0.0081299329267524, 'course': 0.010297651613472198, 'content': 0.005492169371453139, 'curriculum': 0.008433051303618128, 'developer': 0.008863019023653704, 'development': 0.010657582324294746, 'tool': 0.013303843850599394, 'give': 0.006668162396761615, 'access': 0.007643338695887469, 'cloud': 0.018285328645960996, 'AI': 0.03597157308262437, 'service': 0.010760333742648037, 'part': 0.001576029381988839, 'Palo': 0.0020982405471953553, 'Alto': 0.002467803607066533, 'giant': 0.00351664290254597, 'want': 0.018546469802569646, 'expand': 0.00945902892008205, 'reach': 0.009616798949563528, 'plan': 0.007572420393884859, 'strong': 0.0037043441488457157, 'ecosystem': 0.005033943530676897, 'India': 0.008908983891455044, 'set': 0.0020982405471953553, 'core': 0.003359577832144227, 'IoT': 0.0052849565523779285, 'Hub': 0.007796265448550978, 'select': 0.008203229184538962, 'campus': 0.008549229807387738, 'company': 0.004054400326455538, 'provide': 0.013307674624174159, 'Azure': 0.006668162396761615, 'such': 0.014964508027333385, 'Cognitive': 0.0027464088541062784, 'Services': 0.030625587287496994, 'Bot': 0.009244969136893695, 'Machine': 0.012003696144888389, 'Learning': 0.013174564075417903, 'accord': 0.001576029381988839, 'Mark': 0.002245853516305711, 'Smith': 0.003200358319580822, 'Country': 0.0038907119477599402, 'Manager': 0.005581754972599216, 'say': 0.006011413147564754, 'define': 0.005837091888173766, 'technology': 0.013389555611492262, 'time': 0.012957965534828428, 'transform': 0.003484952026550082, 'life': 0.004966148428943924, 'industry': 0.01854313367386362, 'job': 0.02045967341223575, 'tomorrow': 0.010580753831405509, 'require': 0.01057033112729295, 'different': 0.0038224385604796476, 'skillset': 0.007071768881817346, 'more': 0.0038224385604796476, 'collaboration': 0.005447103721148497, 'training': 0.007831093731595589, 'work': 0.008232890368780015, 's': 0.001576029381988839, 'become': 0.0031211312197999153, 'critical': 0.005774169832663326, 'educational': 0.001576029381988839, 'integrate': 0.0034095034249587938, 'new': 0.004188761077733824, 'ramp': 0.0032791758751435033, 'institutional': 0.004363439603485217, 'set-up': 0.0034305600691501613, 'capability': 0.005162384968991172, 'educator': 0.005964240632277119, 'educate': 0.00664584661065744, 'aim': 0.0020982405471953553, 'cognitive': 0.0037043441488457157, 'understanding': 0.011392150949285019, 'develop': 0.008849328749748095, 'intelligent': 0.007922719802779919, 'connect': 0.007916130121480139, 'solution': 0.009776200130778206, 'application': 0.013251037370788338, 'April': 0.001576029381988839, 'year': 0.0029156776506225834, 'Advanced': 0.0027464088541062784, 'learn': 0.003928169243612523, 'track': 0.0032455896527449346, 'open': 0.006004444693678203, 'public': 0.006680010233128477, 'ready': 0.008989444404238255, 'programmer': 0.015212957711266035, 'hone': 0.00945902892008205, 'datum': 0.003557228971723078, 'science': 0.006581075056138433, 'series': 0.007170299487648291, 'online': 0.004623581489643355, 'feature': 0.005729584744238042, 'hand-on': 0.006199667102004612, 'lab': 0.006646262025385935, 'expert': 0.0070358438884612195, 'instructor': 0.010381629559182582, 'include': 0.0020982405471953553, 'developer-focused': 0.0026927566972471512, 'school': 0.005667136392850389, 'bunch': 0.003192058199616963, 'asset': 0.004289392488996549, 'help': 0.0033990930727334887}\n",
      "key_phrases= students, ai-ready skills, smartsoft corp. cognitive services, job ready skills, ai, services, technologies, bot services and machine learning services, cognitive skills, azure ai, new cloud, skills\n",
      "~~~~~~~~~~~~~~~~~~~~~~~~~~~~~~~~~~~~~~~~~~~~~~~~~~~~~~~~~~~~~~~~~~~~~~~~~~~~~~~~~~~~~~~~~~~~~~~~~~~~~~~~~\n"
     ]
    }
   ],
   "source": [
    "source_file='source.json'\n",
    "source_json_content='{\"id\":\"777\", \"text\":\"In an attempt to build an AI-ready workforce, SmartSoft Corp. announced Smart Colab Program which has been launched to empower the next generation of students with AI-ready skills. Envisioned as a three-year collaborative program, Smart Colab Program will support around 100 institutions with AI infrastructure, course content and curriculum, developer support, development tools and give students access to cloud and AI services. As part of the program, the Palo Alto giant which wants to expand its reach and is planning to build a strong developer ecosystem in India with the program will set up the core AI infrastructure and IoT Hub for the selected campuses. The company will provide AI development tools and Azure AI services such as SmartSoft Corp. Cognitive Services, Bot Services and Machine Learning Services. According to Mark Smith, Country AI Manager, SmartSoft Corp. India, said, ''With AI being the defining technology of our time, it is transforming lives and industry and the jobs of tomorrow will require a different skillset. This will require more collaborations and training and working with AI. That''s why it has become more critical than ever for educational institutions to integrate new cloud and AI technologies. The program is an attempt to ramp up the institutional set-up and build capabilities among the educators to educate the workforce of tomorrow.'' The program aims to build up the cognitive skills and in-depth understanding of developing intelligent cloud connected solutions for applications across industry. Earlier in April this year, the company announced SmartSoft Corp. Advanced Program In AI as a learning track open to the public. The program was developed to provide job ready skills to programmers who wanted to hone their skills in AI and data science with a series of online courses which featured hands-on labs and expert instructors as well. This program also included developer-focused AI school that provided a bunch of assets to help build AI skills.\"}'\n",
    "with open(source_file, 'w') as f:\n",
    "    f.write(\"%s\" % source_json_content)\n",
    "\n",
    "summarised_result = betterNLP.summarise(source_file, method=\"pytextrank\")\n",
    "\n",
    "print(\"~~~~~~~~~~~~~~~~~~~~~~~~~~~~~~~~~~~~~~~~~~~~~~~~~~~~~~~~~~~~~~~~~~~~~~~~~~~~~~~~~~~~~~~~~~~~~~~~~~~~~~~~~\")\n",
    "print(\"summarisation_processing_time_in_secs=\",summarised_result['summarisation_processing_time_in_secs'])\n",
    "print(\"summarised_text=\",summarised_result['summarised_text'])\n",
    "print(\"token_ranks=\",summarised_result['token_ranks'])\n",
    "print(\"key_phrases=\",summarised_result['key_phrases'])\n",
    "print(\"~~~~~~~~~~~~~~~~~~~~~~~~~~~~~~~~~~~~~~~~~~~~~~~~~~~~~~~~~~~~~~~~~~~~~~~~~~~~~~~~~~~~~~~~~~~~~~~~~~~~~~~~~\")"
   ]
  },
  {
   "cell_type": "code",
   "execution_count": 7,
   "metadata": {
    "colab": {},
    "colab_type": "code",
    "id": "PkZB1gF_3w8w",
    "outputId": "0c17c158-05f7-4a23-cd50-c3a4f6e6fd0a"
   },
   "outputs": [
    {
     "data": {
      "image/png": "[encoded data removed]",
      "text/plain": [
       "<Figure size 432x288 with 1 Axes>"
      ]
     },
     "metadata": {},
     "output_type": "display_data"
    }
   ],
   "source": [
    "betterNLP.show_graph(summarised_result[\"graph\"])"
   ]
  },
  {
   "cell_type": "markdown",
   "metadata": {
    "colab_type": "text",
    "id": "s2kyTI6bfcz7"
   },
   "source": [
    "### Build a simple text summarisation tool using NLTK\n",
    "\n",
    "Inspired by Wilame Lima Vallantin, the author of [Build a simple text summarisation tool using NLTK](https://medium.com/@wilamelima/build-a-simple-text-summarisation-tool-using-nltk-ff0984fedb4f).\n",
    "\n",
    "We have to break the text into sentences and tokens, remove stop-words. Tokenise words, calculate word frequency to determine if a word is important on the corpus, using the TF-IDF technique."
   ]
  },
  {
   "cell_type": "code",
   "execution_count": 13,
   "metadata": {
    "colab": {},
    "colab_type": "code",
    "id": "MOqeUNkg3w82",
    "outputId": "bfe3346d-713d-4114-b0e8-1a8539895072"
   },
   "outputs": [
    {
     "name": "stdout",
     "output_type": "stream",
     "text": [
      "~~~~~~~~~~~~~~~~~~~~~~~~~~~~~~~~~~~~~~~~~~~~~~~~~~~~~~~~~~~~~~~~~~~~~~~~~~~~~~~~~~~~~~~~~~~~~~~~~~~~~~~~~\n",
      "summarisation_processing_time_in_secs= 0.22194361686706543\n",
      "summarised_text= ['Envisioned as a three-year collaborative program, Smart Colab Program will support around 100 institutions with AI infrastructure, course content and curriculum, developer support, development tools and give students access to cloud and AI services.', 'As part of the program, the Palo Alto giant which wants to expand its reach and is planning to build a strong developer ecosystem in India with the program will set up the core AI infrastructure and IoT Hub for the selected campuses.']\n",
      "important_words= [('ai', 0.5365674232184474), ('program', 0.412744171706498), ('build', 0.206372085853249), ('skill', 0.206372085853249), ('service', 0.206372085853249), ('smartsoft', 0.1650976686825992), ('corp.', 0.1650976686825992), ('cloud', 0.12382325151194941), ('attempt', 0.0825488343412996), ('ai-ready', 0.0825488343412996), ('workforce', 0.0825488343412996), ('announced', 0.0825488343412996), ('smart', 0.0825488343412996), ('colab', 0.0825488343412996), ('ha', 0.0825488343412996), ('student', 0.0825488343412996), ('support', 0.0825488343412996), ('institution', 0.0825488343412996), ('infrastructure', 0.0825488343412996), ('course', 0.0825488343412996), ('developer', 0.0825488343412996), ('development', 0.0825488343412996), ('tool', 0.0825488343412996), ('india', 0.0825488343412996), ('company', 0.0825488343412996), ('provide', 0.0825488343412996), ('cognitive', 0.0825488343412996), ('learning', 0.0825488343412996), ('technology', 0.0825488343412996), ('industry', 0.0825488343412996), ('job', 0.0825488343412996), ('tomorrow', 0.0825488343412996), ('require', 0.0825488343412996), ('launched', 0.0412744171706498), ('empower', 0.0412744171706498), ('next', 0.0412744171706498), ('generation', 0.0412744171706498), ('envisioned', 0.0412744171706498), ('three-year', 0.0412744171706498), ('collaborative', 0.0412744171706498), ('around', 0.0412744171706498), ('100', 0.0412744171706498), ('content', 0.0412744171706498), ('curriculum', 0.0412744171706498), ('give', 0.0412744171706498), ('access', 0.0412744171706498), ('part', 0.0412744171706498), ('palo', 0.0412744171706498), ('alto', 0.0412744171706498), ('giant', 0.0412744171706498), ('want', 0.0412744171706498), ('expand', 0.0412744171706498), ('reach', 0.0412744171706498), ('planning', 0.0412744171706498), ('strong', 0.0412744171706498), ('ecosystem', 0.0412744171706498), ('set', 0.0412744171706498), ('core', 0.0412744171706498), ('iot', 0.0412744171706498), ('hub', 0.0412744171706498), ('selected', 0.0412744171706498), ('campus', 0.0412744171706498), ('azure', 0.0412744171706498), ('bot', 0.0412744171706498), ('machine', 0.0412744171706498), ('according', 0.0412744171706498), ('mark', 0.0412744171706498), ('smith', 0.0412744171706498), ('country', 0.0412744171706498), ('manager', 0.0412744171706498), ('said', 0.0412744171706498), ('``', 0.0412744171706498), ('defining', 0.0412744171706498), ('time', 0.0412744171706498), ('transforming', 0.0412744171706498), ('life', 0.0412744171706498), ('different', 0.0412744171706498), ('skillset', 0.0412744171706498), ('collaboration', 0.0412744171706498), ('training', 0.0412744171706498), ('working', 0.0412744171706498), ('’', 0.0412744171706498), ('become', 0.0412744171706498), ('critical', 0.0412744171706498), ('ever', 0.0412744171706498), ('educational', 0.0412744171706498), ('integrate', 0.0412744171706498), ('new', 0.0412744171706498), ('ramp', 0.0412744171706498), ('institutional', 0.0412744171706498), ('set-up', 0.0412744171706498), ('capability', 0.0412744171706498), ('among', 0.0412744171706498), ('educator', 0.0412744171706498), ('educate', 0.0412744171706498), (\"''\", 0.0412744171706498), ('aim', 0.0412744171706498), ('in-depth', 0.0412744171706498), ('understanding', 0.0412744171706498), ('developing', 0.0412744171706498), ('intelligent', 0.0412744171706498), ('connected', 0.0412744171706498), ('solution', 0.0412744171706498), ('application', 0.0412744171706498), ('across', 0.0412744171706498), ('earlier', 0.0412744171706498), ('april', 0.0412744171706498), ('year', 0.0412744171706498), ('advanced', 0.0412744171706498), ('track', 0.0412744171706498), ('open', 0.0412744171706498), ('public', 0.0412744171706498), ('wa', 0.0412744171706498), ('developed', 0.0412744171706498), ('ready', 0.0412744171706498), ('programmer', 0.0412744171706498), ('wanted', 0.0412744171706498), ('hone', 0.0412744171706498), ('data', 0.0412744171706498), ('science', 0.0412744171706498), ('series', 0.0412744171706498), ('online', 0.0412744171706498), ('featured', 0.0412744171706498), ('hands-on', 0.0412744171706498), ('lab', 0.0412744171706498), ('expert', 0.0412744171706498), ('instructor', 0.0412744171706498), ('well', 0.0412744171706498), ('included', 0.0412744171706498), ('developer-focused', 0.0412744171706498), ('school', 0.0412744171706498), ('provided', 0.0412744171706498), ('bunch', 0.0412744171706498), ('asset', 0.0412744171706498), ('help', 0.0412744171706498)]\n",
      "~~~~~~~~~~~~~~~~~~~~~~~~~~~~~~~~~~~~~~~~~~~~~~~~~~~~~~~~~~~~~~~~~~~~~~~~~~~~~~~~~~~~~~~~~~~~~~~~~~~~~~~~~\n"
     ]
    }
   ],
   "source": [
    "summarised_result = betterNLP.summarise(generic_text, method=\"nltk_sklearn\")\n",
    "\n",
    "print(\"~~~~~~~~~~~~~~~~~~~~~~~~~~~~~~~~~~~~~~~~~~~~~~~~~~~~~~~~~~~~~~~~~~~~~~~~~~~~~~~~~~~~~~~~~~~~~~~~~~~~~~~~~\")\n",
    "print(\"summarisation_processing_time_in_secs=\",summarised_result['summarisation_processing_time_in_secs'])\n",
    "print(\"summarised_text=\",summarised_result['summarised_text'])\n",
    "print(\"important_words=\",summarised_result['important_words'])\n",
    "print(\"~~~~~~~~~~~~~~~~~~~~~~~~~~~~~~~~~~~~~~~~~~~~~~~~~~~~~~~~~~~~~~~~~~~~~~~~~~~~~~~~~~~~~~~~~~~~~~~~~~~~~~~~~\")"
   ]
  },
  {
   "cell_type": "markdown",
   "metadata": {
    "colab_type": "text",
    "id": "4jQLb4Sqfc0E"
   },
   "source": [
    "### Summarisation 4"
   ]
  },
  {
   "cell_type": "code",
   "execution_count": null,
   "metadata": {
    "colab": {},
    "colab_type": "code",
    "id": "BWAPOQyt3w87"
   },
   "outputs": [],
   "source": []
  },
  {
   "cell_type": "markdown",
   "metadata": {
    "colab": {},
    "colab_type": "code",
    "id": "H_JfZhqwfc0J"
   },
   "source": [
    "### Summarisation 5"
   ]
  },
  {
   "cell_type": "code",
   "execution_count": null,
   "metadata": {
    "colab": {},
    "colab_type": "code",
    "id": "XBXv8SZM3w9B"
   },
   "outputs": [],
   "source": []
  }
 ],
 "metadata": {
  "colab": {
   "collapsed_sections": [],
   "include_colab_link": true,
   "name": "better_nlp_summarisers.ipynb",
   "provenance": [],
   "version": "0.3.2"
  },
  "kernelspec": {
   "display_name": "Python 3",
   "language": "python",
   "name": "python3"
  },
  "language_info": {
   "codemirror_mode": {
    "name": "ipython",
    "version": 3
   },
   "file_extension": ".py",
   "mimetype": "text/x-python",
   "name": "python",
   "nbconvert_exporter": "python",
   "pygments_lexer": "ipython3",
   "version": "3.7.3"
  }
 }
}
